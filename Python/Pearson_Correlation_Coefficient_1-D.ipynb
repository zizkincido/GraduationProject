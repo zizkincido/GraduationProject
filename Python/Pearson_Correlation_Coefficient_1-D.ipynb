{
 "cells": [
  {
   "cell_type": "code",
   "execution_count": 4,
   "metadata": {},
   "outputs": [],
   "source": [
    "import numpy as np\n",
    "import pandas as pd\n",
    "import matplotlib.pyplot as plt"
   ]
  },
  {
   "cell_type": "code",
   "execution_count": 29,
   "metadata": {},
   "outputs": [
    {
     "data": {
      "text/html": [
       "<div>\n",
       "<style scoped>\n",
       "    .dataframe tbody tr th:only-of-type {\n",
       "        vertical-align: middle;\n",
       "    }\n",
       "\n",
       "    .dataframe tbody tr th {\n",
       "        vertical-align: top;\n",
       "    }\n",
       "\n",
       "    .dataframe thead th {\n",
       "        text-align: right;\n",
       "    }\n",
       "</style>\n",
       "<table border=\"1\" class=\"dataframe\">\n",
       "  <thead>\n",
       "    <tr style=\"text-align: right;\">\n",
       "      <th></th>\n",
       "      <th>Hue</th>\n",
       "      <th>Saturation</th>\n",
       "    </tr>\n",
       "  </thead>\n",
       "  <tbody>\n",
       "    <tr>\n",
       "      <th>0</th>\n",
       "      <td>12.335475</td>\n",
       "      <td>136.705829</td>\n",
       "    </tr>\n",
       "  </tbody>\n",
       "</table>\n",
       "</div>"
      ],
      "text/plain": [
       "         Hue  Saturation\n",
       "0  12.335475  136.705829"
      ]
     },
     "execution_count": 29,
     "metadata": {},
     "output_type": "execute_result"
    }
   ],
   "source": [
    "df = pd.read_csv(r\"C:\\Users\\Aziz\\Desktop\\Github\\CSV\\Average_hsv_arc.csv\")\n",
    "df.pop('Unnamed: 0')\n",
    "df.head(1)"
   ]
  },
  {
   "cell_type": "code",
   "execution_count": 6,
   "metadata": {},
   "outputs": [
    {
     "data": {
      "text/html": [
       "<div>\n",
       "<style scoped>\n",
       "    .dataframe tbody tr th:only-of-type {\n",
       "        vertical-align: middle;\n",
       "    }\n",
       "\n",
       "    .dataframe tbody tr th {\n",
       "        vertical-align: top;\n",
       "    }\n",
       "\n",
       "    .dataframe thead th {\n",
       "        text-align: right;\n",
       "    }\n",
       "</style>\n",
       "<table border=\"1\" class=\"dataframe\">\n",
       "  <thead>\n",
       "    <tr style=\"text-align: right;\">\n",
       "      <th></th>\n",
       "      <th>DTVnorm</th>\n",
       "      <th>DTVnorm2</th>\n",
       "      <th>DTVnorm3</th>\n",
       "      <th>DTVnorm4</th>\n",
       "      <th>DTVnorm5</th>\n",
       "      <th>DTVnorm6</th>\n",
       "      <th>DTVnorm7</th>\n",
       "      <th>DTVnorm8</th>\n",
       "      <th>DTVnorm9</th>\n",
       "      <th>DTVnorm10</th>\n",
       "      <th>DTVnorm11</th>\n",
       "      <th>DTVnorm12</th>\n",
       "    </tr>\n",
       "  </thead>\n",
       "  <tbody>\n",
       "    <tr>\n",
       "      <th>0</th>\n",
       "      <td>0.126229</td>\n",
       "      <td>0.120996</td>\n",
       "      <td>0.118913</td>\n",
       "      <td>0.118114</td>\n",
       "      <td>0.118105</td>\n",
       "      <td>0.119525</td>\n",
       "      <td>0.124714</td>\n",
       "      <td>0.135229</td>\n",
       "      <td>0.146307</td>\n",
       "      <td>0.150997</td>\n",
       "      <td>0.146282</td>\n",
       "      <td>0.135895</td>\n",
       "    </tr>\n",
       "  </tbody>\n",
       "</table>\n",
       "</div>"
      ],
      "text/plain": [
       "    DTVnorm  DTVnorm2  DTVnorm3  DTVnorm4  DTVnorm5  DTVnorm6  DTVnorm7  \\\n",
       "0  0.126229  0.120996  0.118913  0.118114  0.118105  0.119525  0.124714   \n",
       "\n",
       "   DTVnorm8  DTVnorm9  DTVnorm10  DTVnorm11  DTVnorm12  \n",
       "0  0.135229  0.146307   0.150997   0.146282   0.135895  "
      ]
     },
     "execution_count": 6,
     "metadata": {},
     "output_type": "execute_result"
    }
   ],
   "source": [
    "df0 = pd.read_csv(r\"C:\\Users\\Aziz\\Desktop\\Github\\CSV\\Dtvarc_ters_normal_updated.csv\")\n",
    "df0.pop('Unnamed: 0')\n",
    "df0.head(1)"
   ]
  },
  {
   "cell_type": "code",
   "execution_count": 30,
   "metadata": {},
   "outputs": [
    {
     "data": {
      "text/html": [
       "<div>\n",
       "<style scoped>\n",
       "    .dataframe tbody tr th:only-of-type {\n",
       "        vertical-align: middle;\n",
       "    }\n",
       "\n",
       "    .dataframe tbody tr th {\n",
       "        vertical-align: top;\n",
       "    }\n",
       "\n",
       "    .dataframe thead th {\n",
       "        text-align: right;\n",
       "    }\n",
       "</style>\n",
       "<table border=\"1\" class=\"dataframe\">\n",
       "  <thead>\n",
       "    <tr style=\"text-align: right;\">\n",
       "      <th></th>\n",
       "      <th>Brightness</th>\n",
       "    </tr>\n",
       "  </thead>\n",
       "  <tbody>\n",
       "    <tr>\n",
       "      <th>0</th>\n",
       "      <td>101.602062</td>\n",
       "    </tr>\n",
       "  </tbody>\n",
       "</table>\n",
       "</div>"
      ],
      "text/plain": [
       "   Brightness\n",
       "0  101.602062"
      ]
     },
     "execution_count": 30,
     "metadata": {},
     "output_type": "execute_result"
    }
   ],
   "source": [
    "df2 = pd.read_csv(r\"C:\\Users\\Aziz\\Desktop\\Github\\CSV\\brightness_ARC.csv\")\n",
    "df2.pop('Unnamed: 0')\n",
    "df2.head(1)"
   ]
  },
  {
   "cell_type": "code",
   "execution_count": 31,
   "metadata": {},
   "outputs": [
    {
     "data": {
      "text/html": [
       "<div>\n",
       "<style scoped>\n",
       "    .dataframe tbody tr th:only-of-type {\n",
       "        vertical-align: middle;\n",
       "    }\n",
       "\n",
       "    .dataframe tbody tr th {\n",
       "        vertical-align: top;\n",
       "    }\n",
       "\n",
       "    .dataframe thead th {\n",
       "        text-align: right;\n",
       "    }\n",
       "</style>\n",
       "<table border=\"1\" class=\"dataframe\">\n",
       "  <thead>\n",
       "    <tr style=\"text-align: right;\">\n",
       "      <th></th>\n",
       "      <th>dominant_hue_1</th>\n",
       "      <th>dominant_sat_1</th>\n",
       "      <th>dominant_val_1</th>\n",
       "      <th>dominant_hue_2</th>\n",
       "      <th>dominant_sat_2</th>\n",
       "      <th>dominant_val_2</th>\n",
       "      <th>dominant_hue_3</th>\n",
       "      <th>dominant_sat_3</th>\n",
       "      <th>dominant_val_3</th>\n",
       "      <th>hue_contrast_c1_c2</th>\n",
       "      <th>hue_contrast_c1_c3</th>\n",
       "      <th>hue_contrast_c1_c4</th>\n",
       "      <th>hue_contrast_c1_c5</th>\n",
       "      <th>hue_contrast_c2_c3</th>\n",
       "      <th>hue_contrast_c2_c4</th>\n",
       "      <th>hue_contrast_c2_c5</th>\n",
       "      <th>hue_contrast_c3_c4</th>\n",
       "      <th>hue_contrast_c3_c5</th>\n",
       "      <th>hue_contrast_c4_c5</th>\n",
       "      <th>like_rate_segmentation</th>\n",
       "    </tr>\n",
       "  </thead>\n",
       "  <tbody>\n",
       "    <tr>\n",
       "      <th>0</th>\n",
       "      <td>20.0</td>\n",
       "      <td>62.637363</td>\n",
       "      <td>35.686275</td>\n",
       "      <td>23.265306</td>\n",
       "      <td>21.39738</td>\n",
       "      <td>89.803922</td>\n",
       "      <td>22.105263</td>\n",
       "      <td>80.851064</td>\n",
       "      <td>18.431373</td>\n",
       "      <td>3.265306</td>\n",
       "      <td>2.105263</td>\n",
       "      <td>2.736842</td>\n",
       "      <td>5.0</td>\n",
       "      <td>1.160043</td>\n",
       "      <td>0.528464</td>\n",
       "      <td>1.734694</td>\n",
       "      <td>0.631579</td>\n",
       "      <td>2.894737</td>\n",
       "      <td>2.263158</td>\n",
       "      <td>0.0</td>\n",
       "    </tr>\n",
       "  </tbody>\n",
       "</table>\n",
       "</div>"
      ],
      "text/plain": [
       "   dominant_hue_1  dominant_sat_1  dominant_val_1  dominant_hue_2  \\\n",
       "0            20.0       62.637363       35.686275       23.265306   \n",
       "\n",
       "   dominant_sat_2  dominant_val_2  dominant_hue_3  dominant_sat_3  \\\n",
       "0        21.39738       89.803922       22.105263       80.851064   \n",
       "\n",
       "   dominant_val_3  hue_contrast_c1_c2  hue_contrast_c1_c3  hue_contrast_c1_c4  \\\n",
       "0       18.431373            3.265306            2.105263            2.736842   \n",
       "\n",
       "   hue_contrast_c1_c5  hue_contrast_c2_c3  hue_contrast_c2_c4  \\\n",
       "0                 5.0            1.160043            0.528464   \n",
       "\n",
       "   hue_contrast_c2_c5  hue_contrast_c3_c4  hue_contrast_c3_c5  \\\n",
       "0            1.734694            0.631579            2.894737   \n",
       "\n",
       "   hue_contrast_c4_c5  like_rate_segmentation  \n",
       "0            2.263158                     0.0  "
      ]
     },
     "execution_count": 31,
     "metadata": {},
     "output_type": "execute_result"
    }
   ],
   "source": [
    "df3 = pd.read_csv(r\"C:\\Users\\Aziz\\Desktop\\Github\\CSV\\color_palette_and_hue_contrast_arc.csv\")\n",
    "df3.head(1)"
   ]
  },
  {
   "cell_type": "code",
   "execution_count": 32,
   "metadata": {},
   "outputs": [
    {
     "data": {
      "text/html": [
       "<div>\n",
       "<style scoped>\n",
       "    .dataframe tbody tr th:only-of-type {\n",
       "        vertical-align: middle;\n",
       "    }\n",
       "\n",
       "    .dataframe tbody tr th {\n",
       "        vertical-align: top;\n",
       "    }\n",
       "\n",
       "    .dataframe thead th {\n",
       "        text-align: right;\n",
       "    }\n",
       "</style>\n",
       "<table border=\"1\" class=\"dataframe\">\n",
       "  <thead>\n",
       "    <tr style=\"text-align: right;\">\n",
       "      <th></th>\n",
       "      <th>Number_of_Unique_Hues</th>\n",
       "      <th>Pixels_Belong_To_Dominant_Hue</th>\n",
       "      <th>like_rate</th>\n",
       "    </tr>\n",
       "  </thead>\n",
       "  <tbody>\n",
       "    <tr>\n",
       "      <th>0</th>\n",
       "      <td>129</td>\n",
       "      <td>477100</td>\n",
       "      <td>0.009483</td>\n",
       "    </tr>\n",
       "  </tbody>\n",
       "</table>\n",
       "</div>"
      ],
      "text/plain": [
       "   Number_of_Unique_Hues  Pixels_Belong_To_Dominant_Hue  like_rate\n",
       "0                    129                         477100   0.009483"
      ]
     },
     "execution_count": 32,
     "metadata": {},
     "output_type": "execute_result"
    }
   ],
   "source": [
    "df4 = pd.read_csv(r\"C:\\Users\\Aziz\\Desktop\\Github\\CSV\\Dominant_Unique_Hue_arc.csv\")\n",
    "df4.pop('Unnamed: 0')\n",
    "df4.head(1)"
   ]
  },
  {
   "cell_type": "code",
   "execution_count": 33,
   "metadata": {},
   "outputs": [
    {
     "data": {
      "text/html": [
       "<div>\n",
       "<style scoped>\n",
       "    .dataframe tbody tr th:only-of-type {\n",
       "        vertical-align: middle;\n",
       "    }\n",
       "\n",
       "    .dataframe tbody tr th {\n",
       "        vertical-align: top;\n",
       "    }\n",
       "\n",
       "    .dataframe thead th {\n",
       "        text-align: right;\n",
       "    }\n",
       "</style>\n",
       "<table border=\"1\" class=\"dataframe\">\n",
       "  <thead>\n",
       "    <tr style=\"text-align: right;\">\n",
       "      <th></th>\n",
       "      <th>Entropy</th>\n",
       "    </tr>\n",
       "  </thead>\n",
       "  <tbody>\n",
       "    <tr>\n",
       "      <th>0</th>\n",
       "      <td>7.687392</td>\n",
       "    </tr>\n",
       "  </tbody>\n",
       "</table>\n",
       "</div>"
      ],
      "text/plain": [
       "    Entropy\n",
       "0  7.687392"
      ]
     },
     "execution_count": 33,
     "metadata": {},
     "output_type": "execute_result"
    }
   ],
   "source": [
    "df5 = pd.read_csv(r\"C:\\Users\\Aziz\\Desktop\\Github\\CSV\\Entropy_ARC_Ters.csv\")\n",
    "df5.pop('Unnamed: 0')\n",
    "df5.head(1)"
   ]
  },
  {
   "cell_type": "code",
   "execution_count": 41,
   "metadata": {},
   "outputs": [
    {
     "data": {
      "text/html": [
       "<div>\n",
       "<style scoped>\n",
       "    .dataframe tbody tr th:only-of-type {\n",
       "        vertical-align: middle;\n",
       "    }\n",
       "\n",
       "    .dataframe tbody tr th {\n",
       "        vertical-align: top;\n",
       "    }\n",
       "\n",
       "    .dataframe thead th {\n",
       "        text-align: right;\n",
       "    }\n",
       "</style>\n",
       "<table border=\"1\" class=\"dataframe\">\n",
       "  <thead>\n",
       "    <tr style=\"text-align: right;\">\n",
       "      <th></th>\n",
       "      <th>id</th>\n",
       "      <th>username</th>\n",
       "      <th>full_path</th>\n",
       "      <th>account_created_at</th>\n",
       "      <th>posted_at</th>\n",
       "      <th>days_between</th>\n",
       "      <th>likes</th>\n",
       "      <th>like_rate</th>\n",
       "    </tr>\n",
       "  </thead>\n",
       "  <tbody>\n",
       "    <tr>\n",
       "      <th>0</th>\n",
       "      <td>2778569169971553819</td>\n",
       "      <td>le_blanc</td>\n",
       "      <td>/content/drive/MyDrive/Database/ARC DATABASE/l...</td>\n",
       "      <td>2011-08-14 00:00:00</td>\n",
       "      <td>2022-02-21</td>\n",
       "      <td>3844</td>\n",
       "      <td>2260.662043</td>\n",
       "      <td>0.009483</td>\n",
       "    </tr>\n",
       "  </tbody>\n",
       "</table>\n",
       "</div>"
      ],
      "text/plain": [
       "                    id  username  \\\n",
       "0  2778569169971553819  le_blanc   \n",
       "\n",
       "                                           full_path   account_created_at  \\\n",
       "0  /content/drive/MyDrive/Database/ARC DATABASE/l...  2011-08-14 00:00:00   \n",
       "\n",
       "    posted_at  days_between        likes  like_rate  \n",
       "0  2022-02-21          3844  2260.662043   0.009483  "
      ]
     },
     "execution_count": 41,
     "metadata": {},
     "output_type": "execute_result"
    }
   ],
   "source": [
    "df6 = pd.read_csv(r\"C:\\Users\\Aziz\\Desktop\\Github\\CSV\\dataset_info_by_date_arc.csv\")\n",
    "df6.head(1)"
   ]
  },
  {
   "cell_type": "code",
   "execution_count": 35,
   "metadata": {},
   "outputs": [
    {
     "data": {
      "text/html": [
       "<div>\n",
       "<style scoped>\n",
       "    .dataframe tbody tr th:only-of-type {\n",
       "        vertical-align: middle;\n",
       "    }\n",
       "\n",
       "    .dataframe tbody tr th {\n",
       "        vertical-align: top;\n",
       "    }\n",
       "\n",
       "    .dataframe thead th {\n",
       "        text-align: right;\n",
       "    }\n",
       "</style>\n",
       "<table border=\"1\" class=\"dataframe\">\n",
       "  <thead>\n",
       "    <tr style=\"text-align: right;\">\n",
       "      <th></th>\n",
       "      <th>michelson_contrast</th>\n",
       "    </tr>\n",
       "  </thead>\n",
       "  <tbody>\n",
       "    <tr>\n",
       "      <th>0</th>\n",
       "      <td>1.0</td>\n",
       "    </tr>\n",
       "  </tbody>\n",
       "</table>\n",
       "</div>"
      ],
      "text/plain": [
       "   michelson_contrast\n",
       "0                 1.0"
      ]
     },
     "execution_count": 35,
     "metadata": {},
     "output_type": "execute_result"
    }
   ],
   "source": [
    "df7 = pd.read_csv(r\"C:\\Users\\Aziz\\Desktop\\Github\\CSV\\michelson_arc.csv\")\n",
    "df7.head(1)"
   ]
  },
  {
   "cell_type": "code",
   "execution_count": 36,
   "metadata": {},
   "outputs": [
    {
     "data": {
      "text/html": [
       "<div>\n",
       "<style scoped>\n",
       "    .dataframe tbody tr th:only-of-type {\n",
       "        vertical-align: middle;\n",
       "    }\n",
       "\n",
       "    .dataframe tbody tr th {\n",
       "        vertical-align: top;\n",
       "    }\n",
       "\n",
       "    .dataframe thead th {\n",
       "        text-align: right;\n",
       "    }\n",
       "</style>\n",
       "<table border=\"1\" class=\"dataframe\">\n",
       "  <thead>\n",
       "    <tr style=\"text-align: right;\">\n",
       "      <th></th>\n",
       "      <th>Unnamed: 0</th>\n",
       "      <th>Wmc</th>\n",
       "      <th>Wmc2</th>\n",
       "      <th>Wmc3</th>\n",
       "      <th>Wmc4</th>\n",
       "      <th>Wmc5</th>\n",
       "      <th>Wmc6</th>\n",
       "      <th>Wmc7</th>\n",
       "      <th>Wmc8</th>\n",
       "      <th>Wmc9</th>\n",
       "      <th>...</th>\n",
       "      <th>Wmc141</th>\n",
       "      <th>Wmc142</th>\n",
       "      <th>Wmc143</th>\n",
       "      <th>Wmc144</th>\n",
       "      <th>Wmc145</th>\n",
       "      <th>Wmc146</th>\n",
       "      <th>Wmc147</th>\n",
       "      <th>Wmc148</th>\n",
       "      <th>Wmc149</th>\n",
       "      <th>Wmc150</th>\n",
       "    </tr>\n",
       "  </thead>\n",
       "  <tbody>\n",
       "    <tr>\n",
       "      <th>0</th>\n",
       "      <td>806</td>\n",
       "      <td>2</td>\n",
       "      <td>2</td>\n",
       "      <td>0</td>\n",
       "      <td>1</td>\n",
       "      <td>2</td>\n",
       "      <td>3</td>\n",
       "      <td>4</td>\n",
       "      <td>6</td>\n",
       "      <td>5</td>\n",
       "      <td>...</td>\n",
       "      <td>5</td>\n",
       "      <td>3</td>\n",
       "      <td>0</td>\n",
       "      <td>0</td>\n",
       "      <td>0</td>\n",
       "      <td>0</td>\n",
       "      <td>0</td>\n",
       "      <td>0</td>\n",
       "      <td>0</td>\n",
       "      <td>1</td>\n",
       "    </tr>\n",
       "  </tbody>\n",
       "</table>\n",
       "<p>1 rows × 151 columns</p>\n",
       "</div>"
      ],
      "text/plain": [
       "   Unnamed: 0  Wmc  Wmc2  Wmc3  Wmc4  Wmc5  Wmc6  Wmc7  Wmc8  Wmc9  ...  \\\n",
       "0         806    2     2     0     1     2     3     4     6     5  ...   \n",
       "\n",
       "   Wmc141  Wmc142  Wmc143  Wmc144  Wmc145  Wmc146  Wmc147  Wmc148  Wmc149  \\\n",
       "0       5       3       0       0       0       0       0       0       0   \n",
       "\n",
       "   Wmc150  \n",
       "0       1  \n",
       "\n",
       "[1 rows x 151 columns]"
      ]
     },
     "execution_count": 36,
     "metadata": {},
     "output_type": "execute_result"
    }
   ],
   "source": [
    "df8 = pd.read_csv(r\"C:\\Users\\Aziz\\Desktop\\Github\\CSV\\Wmc_ARC_Ters.csv\")\n",
    "df8.head(1)"
   ]
  },
  {
   "cell_type": "code",
   "execution_count": 50,
   "metadata": {},
   "outputs": [
    {
     "data": {
      "text/plain": [
       "<matplotlib.collections.PathCollection at 0x1b380c90610>"
      ]
     },
     "execution_count": 50,
     "metadata": {},
     "output_type": "execute_result"
    },
    {
     "data": {
      "image/png": "[encoded data removed]",
      "text/plain": [
       "<Figure size 432x288 with 1 Axes>"
      ]
     },
     "metadata": {
      "needs_background": "light"
     },
     "output_type": "display_data"
    }
   ],
   "source": [
    "x = df['Hue']\n",
    "y = df6['like_rate']\n",
    "my_rho = np.corrcoef(x,y)\n",
    "plt.title('Correlation = %.2f' % my_rho[0,1])\n",
    "plt.xlabel(\"Average Hue ARC\")\n",
    "plt.ylabel(\"Like Rate\")\n",
    "plt.scatter(x, y)"
   ]
  },
  {
   "cell_type": "code",
   "execution_count": 51,
   "metadata": {},
   "outputs": [
    {
     "data": {
      "text/plain": [
       "<matplotlib.collections.PathCollection at 0x1b380cf28b0>"
      ]
     },
     "execution_count": 51,
     "metadata": {},
     "output_type": "execute_result"
    },
    {
     "data": {
      "image/png": "[encoded data removed]",
      "text/plain": [
       "<Figure size 432x288 with 1 Axes>"
      ]
     },
     "metadata": {
      "needs_background": "light"
     },
     "output_type": "display_data"
    }
   ],
   "source": [
    "x = df['Saturation']\n",
    "y = df6['like_rate']\n",
    "my_rho = np.corrcoef(x,y)\n",
    "plt.title('Correlation = %.2f' % my_rho[0,1])\n",
    "plt.xlabel(\"Average Saturation ARC\")\n",
    "plt.ylabel(\"Like Rate\")\n",
    "plt.scatter(x, y)"
   ]
  },
  {
   "cell_type": "code",
   "execution_count": 52,
   "metadata": {},
   "outputs": [
    {
     "data": {
      "text/plain": [
       "<matplotlib.collections.PathCollection at 0x1b380bb1f10>"
      ]
     },
     "execution_count": 52,
     "metadata": {},
     "output_type": "execute_result"
    },
    {
     "data": {
      "image/png": "[encoded data removed]",
      "text/plain": [
       "<Figure size 432x288 with 1 Axes>"
      ]
     },
     "metadata": {
      "needs_background": "light"
     },
     "output_type": "display_data"
    }
   ],
   "source": [
    "x = df2['Brightness']\n",
    "y = df6['like_rate']\n",
    "my_rho = np.corrcoef(x,y)\n",
    "plt.title('Correlation = %.2f' % my_rho[0,1])\n",
    "plt.xlabel(\"Brightness ARC\")\n",
    "plt.ylabel(\"Like Rate\")\n",
    "plt.scatter(x, y)"
   ]
  },
  {
   "cell_type": "code",
   "execution_count": 53,
   "metadata": {},
   "outputs": [
    {
     "data": {
      "text/plain": [
       "<matplotlib.collections.PathCollection at 0x1b380a5de80>"
      ]
     },
     "execution_count": 53,
     "metadata": {},
     "output_type": "execute_result"
    },
    {
     "data": {
      "image/png": "[encoded data removed]",
      "text/plain": [
       "<Figure size 432x288 with 1 Axes>"
      ]
     },
     "metadata": {
      "needs_background": "light"
     },
     "output_type": "display_data"
    }
   ],
   "source": [
    "x = df4['Number_of_Unique_Hues']\n",
    "y = df6['like_rate']\n",
    "my_rho = np.corrcoef(x,y)\n",
    "plt.title('Correlation = %.2f' % my_rho[0,1])\n",
    "plt.xlabel(\"Number of Unique Hues ARC\")\n",
    "plt.ylabel(\"Like Rate\")\n",
    "plt.scatter(x, y)"
   ]
  },
  {
   "cell_type": "code",
   "execution_count": 54,
   "metadata": {},
   "outputs": [
    {
     "data": {
      "text/plain": [
       "<matplotlib.collections.PathCollection at 0x1b380e145e0>"
      ]
     },
     "execution_count": 54,
     "metadata": {},
     "output_type": "execute_result"
    },
    {
     "data": {
      "image/png": "[encoded data removed]",
      "text/plain": [
       "<Figure size 432x288 with 1 Axes>"
      ]
     },
     "metadata": {
      "needs_background": "light"
     },
     "output_type": "display_data"
    }
   ],
   "source": [
    "x = df4['Pixels_Belong_To_Dominant_Hue']\n",
    "y = df6['like_rate']\n",
    "my_rho = np.corrcoef(x,y)\n",
    "plt.title('Correlation = %.2f' % my_rho[0,1])\n",
    "plt.xlabel(\"Pixels Belongs to Dominant Hue ARC\")\n",
    "plt.ylabel(\"Like Rate\")\n",
    "plt.scatter(x, y)"
   ]
  },
  {
   "cell_type": "code",
   "execution_count": 55,
   "metadata": {},
   "outputs": [
    {
     "data": {
      "text/plain": [
       "<matplotlib.collections.PathCollection at 0x1b380bcecd0>"
      ]
     },
     "execution_count": 55,
     "metadata": {},
     "output_type": "execute_result"
    },
    {
     "data": {
      "image/png": "[encoded data removed]",
      "text/plain": [
       "<Figure size 432x288 with 1 Axes>"
      ]
     },
     "metadata": {
      "needs_background": "light"
     },
     "output_type": "display_data"
    }
   ],
   "source": [
    "x = df5['Entropy']\n",
    "y = df6['like_rate']\n",
    "my_rho = np.corrcoef(x,y)\n",
    "plt.title('Correlation = %.2f' % my_rho[0,1])\n",
    "plt.xlabel(\"Entropy of ARC\")\n",
    "plt.ylabel(\"Like Rate\")\n",
    "plt.scatter(x, y)"
   ]
  },
  {
   "cell_type": "code",
   "execution_count": 56,
   "metadata": {},
   "outputs": [
    {
     "data": {
      "text/plain": [
       "<matplotlib.collections.PathCollection at 0x1b380cd27f0>"
      ]
     },
     "execution_count": 56,
     "metadata": {},
     "output_type": "execute_result"
    },
    {
     "data": {
      "image/png": "[encoded data removed]",
      "text/plain": [
       "<Figure size 432x288 with 1 Axes>"
      ]
     },
     "metadata": {
      "needs_background": "light"
     },
     "output_type": "display_data"
    }
   ],
   "source": [
    "x = df7['michelson_contrast']\n",
    "y = df6['like_rate']\n",
    "my_rho = np.corrcoef(x,y)\n",
    "plt.title('Correlation = %.2f' % my_rho[0,1])\n",
    "plt.xlabel(\"Michelson Contrast of ARC\")\n",
    "plt.ylabel(\"Like Rate\")\n",
    "plt.scatter(x, y)"
   ]
  },
  {
   "cell_type": "code",
   "execution_count": 57,
   "metadata": {},
   "outputs": [
    {
     "data": {
      "text/html": [
       "<div>\n",
       "<style scoped>\n",
       "    .dataframe tbody tr th:only-of-type {\n",
       "        vertical-align: middle;\n",
       "    }\n",
       "\n",
       "    .dataframe tbody tr th {\n",
       "        vertical-align: top;\n",
       "    }\n",
       "\n",
       "    .dataframe thead th {\n",
       "        text-align: right;\n",
       "    }\n",
       "</style>\n",
       "<table border=\"1\" class=\"dataframe\">\n",
       "  <thead>\n",
       "    <tr style=\"text-align: right;\">\n",
       "      <th></th>\n",
       "      <th>Hue</th>\n",
       "      <th>Saturation</th>\n",
       "    </tr>\n",
       "  </thead>\n",
       "  <tbody>\n",
       "    <tr>\n",
       "      <th>0</th>\n",
       "      <td>21.534362</td>\n",
       "      <td>153.943075</td>\n",
       "    </tr>\n",
       "  </tbody>\n",
       "</table>\n",
       "</div>"
      ],
      "text/plain": [
       "         Hue  Saturation\n",
       "0  21.534362  153.943075"
      ]
     },
     "execution_count": 57,
     "metadata": {},
     "output_type": "execute_result"
    }
   ],
   "source": [
    "df = pd.read_csv(r\"C:\\Users\\Aziz\\Desktop\\Github\\CSV\\Average_hsv_art.csv\")\n",
    "df.pop('Unnamed: 0')\n",
    "df.head(1)\n"
   ]
  },
  {
   "cell_type": "code",
   "execution_count": 58,
   "metadata": {},
   "outputs": [
    {
     "data": {
      "text/html": [
       "<div>\n",
       "<style scoped>\n",
       "    .dataframe tbody tr th:only-of-type {\n",
       "        vertical-align: middle;\n",
       "    }\n",
       "\n",
       "    .dataframe tbody tr th {\n",
       "        vertical-align: top;\n",
       "    }\n",
       "\n",
       "    .dataframe thead th {\n",
       "        text-align: right;\n",
       "    }\n",
       "</style>\n",
       "<table border=\"1\" class=\"dataframe\">\n",
       "  <thead>\n",
       "    <tr style=\"text-align: right;\">\n",
       "      <th></th>\n",
       "      <th>Brightness</th>\n",
       "    </tr>\n",
       "  </thead>\n",
       "  <tbody>\n",
       "    <tr>\n",
       "      <th>0</th>\n",
       "      <td>117.341839</td>\n",
       "    </tr>\n",
       "  </tbody>\n",
       "</table>\n",
       "</div>"
      ],
      "text/plain": [
       "   Brightness\n",
       "0  117.341839"
      ]
     },
     "execution_count": 58,
     "metadata": {},
     "output_type": "execute_result"
    }
   ],
   "source": [
    "df2 = pd.read_csv(r\"C:\\Users\\Aziz\\Desktop\\Github\\CSV\\brightness_ART.csv\")\n",
    "df2.pop('Unnamed: 0')\n",
    "df2.head(1)"
   ]
  },
  {
   "cell_type": "code",
   "execution_count": 59,
   "metadata": {},
   "outputs": [
    {
     "data": {
      "text/html": [
       "<div>\n",
       "<style scoped>\n",
       "    .dataframe tbody tr th:only-of-type {\n",
       "        vertical-align: middle;\n",
       "    }\n",
       "\n",
       "    .dataframe tbody tr th {\n",
       "        vertical-align: top;\n",
       "    }\n",
       "\n",
       "    .dataframe thead th {\n",
       "        text-align: right;\n",
       "    }\n",
       "</style>\n",
       "<table border=\"1\" class=\"dataframe\">\n",
       "  <thead>\n",
       "    <tr style=\"text-align: right;\">\n",
       "      <th></th>\n",
       "      <th>id</th>\n",
       "      <th>dominant_hue_1</th>\n",
       "      <th>dominant_sat_1</th>\n",
       "      <th>dominant_val_1</th>\n",
       "      <th>dominant_hue_2</th>\n",
       "      <th>dominant_sat_2</th>\n",
       "      <th>dominant_val_2</th>\n",
       "      <th>dominant_hue_3</th>\n",
       "      <th>dominant_sat_3</th>\n",
       "      <th>dominant_val_3</th>\n",
       "      <th>...</th>\n",
       "      <th>hue_contrast_c1_c3</th>\n",
       "      <th>hue_contrast_c1_c4</th>\n",
       "      <th>hue_contrast_c1_c5</th>\n",
       "      <th>hue_contrast_c2_c3</th>\n",
       "      <th>hue_contrast_c2_c4</th>\n",
       "      <th>hue_contrast_c2_c5</th>\n",
       "      <th>hue_contrast_c3_c4</th>\n",
       "      <th>hue_contrast_c3_c5</th>\n",
       "      <th>hue_contrast_c4_c5</th>\n",
       "      <th>like_rate_segmentation</th>\n",
       "    </tr>\n",
       "  </thead>\n",
       "  <tbody>\n",
       "    <tr>\n",
       "      <th>0</th>\n",
       "      <td>NaN</td>\n",
       "      <td>30.789474</td>\n",
       "      <td>78.350515</td>\n",
       "      <td>38.039216</td>\n",
       "      <td>33.658537</td>\n",
       "      <td>19.339623</td>\n",
       "      <td>83.137255</td>\n",
       "      <td>40.487805</td>\n",
       "      <td>62.755102</td>\n",
       "      <td>76.862745</td>\n",
       "      <td>...</td>\n",
       "      <td>9.698331</td>\n",
       "      <td>6.953857</td>\n",
       "      <td>0.410526</td>\n",
       "      <td>6.829268</td>\n",
       "      <td>9.82292</td>\n",
       "      <td>2.458537</td>\n",
       "      <td>16.652188</td>\n",
       "      <td>9.287805</td>\n",
       "      <td>7.364384</td>\n",
       "      <td>0.0</td>\n",
       "    </tr>\n",
       "  </tbody>\n",
       "</table>\n",
       "<p>1 rows × 21 columns</p>\n",
       "</div>"
      ],
      "text/plain": [
       "   id  dominant_hue_1  dominant_sat_1  dominant_val_1  dominant_hue_2  \\\n",
       "0 NaN       30.789474       78.350515       38.039216       33.658537   \n",
       "\n",
       "   dominant_sat_2  dominant_val_2  dominant_hue_3  dominant_sat_3  \\\n",
       "0       19.339623       83.137255       40.487805       62.755102   \n",
       "\n",
       "   dominant_val_3  ...  hue_contrast_c1_c3  hue_contrast_c1_c4  \\\n",
       "0       76.862745  ...            9.698331            6.953857   \n",
       "\n",
       "   hue_contrast_c1_c5  hue_contrast_c2_c3  hue_contrast_c2_c4  \\\n",
       "0            0.410526            6.829268             9.82292   \n",
       "\n",
       "   hue_contrast_c2_c5  hue_contrast_c3_c4  hue_contrast_c3_c5  \\\n",
       "0            2.458537           16.652188            9.287805   \n",
       "\n",
       "   hue_contrast_c4_c5  like_rate_segmentation  \n",
       "0            7.364384                     0.0  \n",
       "\n",
       "[1 rows x 21 columns]"
      ]
     },
     "execution_count": 59,
     "metadata": {},
     "output_type": "execute_result"
    }
   ],
   "source": [
    "df3 = pd.read_csv(r\"C:\\Users\\Aziz\\Desktop\\Github\\CSV\\color_palette_and_hue_contrast_art.csv\")\n",
    "df3.head(1)"
   ]
  },
  {
   "cell_type": "code",
   "execution_count": 60,
   "metadata": {},
   "outputs": [
    {
     "data": {
      "text/html": [
       "<div>\n",
       "<style scoped>\n",
       "    .dataframe tbody tr th:only-of-type {\n",
       "        vertical-align: middle;\n",
       "    }\n",
       "\n",
       "    .dataframe tbody tr th {\n",
       "        vertical-align: top;\n",
       "    }\n",
       "\n",
       "    .dataframe thead th {\n",
       "        text-align: right;\n",
       "    }\n",
       "</style>\n",
       "<table border=\"1\" class=\"dataframe\">\n",
       "  <thead>\n",
       "    <tr style=\"text-align: right;\">\n",
       "      <th></th>\n",
       "      <th>Number_of_Unique_Hues</th>\n",
       "      <th>Pixels_Belong_To_Dominant_Hue</th>\n",
       "      <th>like_rate</th>\n",
       "    </tr>\n",
       "  </thead>\n",
       "  <tbody>\n",
       "    <tr>\n",
       "      <th>0</th>\n",
       "      <td>181</td>\n",
       "      <td>55284</td>\n",
       "      <td>0.018246</td>\n",
       "    </tr>\n",
       "  </tbody>\n",
       "</table>\n",
       "</div>"
      ],
      "text/plain": [
       "   Number_of_Unique_Hues  Pixels_Belong_To_Dominant_Hue  like_rate\n",
       "0                    181                          55284   0.018246"
      ]
     },
     "execution_count": 60,
     "metadata": {},
     "output_type": "execute_result"
    }
   ],
   "source": [
    "df4 = pd.read_csv(r\"C:\\Users\\Aziz\\Desktop\\Github\\CSV\\Dominant_Unique_Hue_art.csv\")\n",
    "df4.pop('Unnamed: 0')\n",
    "df4.head(1)"
   ]
  },
  {
   "cell_type": "code",
   "execution_count": 61,
   "metadata": {},
   "outputs": [
    {
     "data": {
      "text/html": [
       "<div>\n",
       "<style scoped>\n",
       "    .dataframe tbody tr th:only-of-type {\n",
       "        vertical-align: middle;\n",
       "    }\n",
       "\n",
       "    .dataframe tbody tr th {\n",
       "        vertical-align: top;\n",
       "    }\n",
       "\n",
       "    .dataframe thead th {\n",
       "        text-align: right;\n",
       "    }\n",
       "</style>\n",
       "<table border=\"1\" class=\"dataframe\">\n",
       "  <thead>\n",
       "    <tr style=\"text-align: right;\">\n",
       "      <th></th>\n",
       "      <th>Entropy</th>\n",
       "    </tr>\n",
       "  </thead>\n",
       "  <tbody>\n",
       "    <tr>\n",
       "      <th>0</th>\n",
       "      <td>7.655111</td>\n",
       "    </tr>\n",
       "  </tbody>\n",
       "</table>\n",
       "</div>"
      ],
      "text/plain": [
       "    Entropy\n",
       "0  7.655111"
      ]
     },
     "execution_count": 61,
     "metadata": {},
     "output_type": "execute_result"
    }
   ],
   "source": [
    "df5 = pd.read_csv(r\"C:\\Users\\Aziz\\Desktop\\Github\\CSV\\Entropy_ART_Ters.csv\")\n",
    "df5.pop('Unnamed: 0')\n",
    "df5.head(1)"
   ]
  },
  {
   "cell_type": "code",
   "execution_count": 62,
   "metadata": {},
   "outputs": [
    {
     "data": {
      "text/html": [
       "<div>\n",
       "<style scoped>\n",
       "    .dataframe tbody tr th:only-of-type {\n",
       "        vertical-align: middle;\n",
       "    }\n",
       "\n",
       "    .dataframe tbody tr th {\n",
       "        vertical-align: top;\n",
       "    }\n",
       "\n",
       "    .dataframe thead th {\n",
       "        text-align: right;\n",
       "    }\n",
       "</style>\n",
       "<table border=\"1\" class=\"dataframe\">\n",
       "  <thead>\n",
       "    <tr style=\"text-align: right;\">\n",
       "      <th></th>\n",
       "      <th>id</th>\n",
       "      <th>username</th>\n",
       "      <th>full_path</th>\n",
       "      <th>account_created_at</th>\n",
       "      <th>posted_at</th>\n",
       "      <th>days_between</th>\n",
       "      <th>likes</th>\n",
       "      <th>like_rate</th>\n",
       "    </tr>\n",
       "  </thead>\n",
       "  <tbody>\n",
       "    <tr>\n",
       "      <th>0</th>\n",
       "      <td>2781569230676453370</td>\n",
       "      <td>_beppe14</td>\n",
       "      <td>/content/drive/MyDrive/Database/ART DATABASE/_...</td>\n",
       "      <td>2013-01-28 00:00:00</td>\n",
       "      <td>2022-02-25</td>\n",
       "      <td>3315</td>\n",
       "      <td>1214</td>\n",
       "      <td>0.018246</td>\n",
       "    </tr>\n",
       "  </tbody>\n",
       "</table>\n",
       "</div>"
      ],
      "text/plain": [
       "                    id  username  \\\n",
       "0  2781569230676453370  _beppe14   \n",
       "\n",
       "                                           full_path   account_created_at  \\\n",
       "0  /content/drive/MyDrive/Database/ART DATABASE/_...  2013-01-28 00:00:00   \n",
       "\n",
       "    posted_at  days_between  likes  like_rate  \n",
       "0  2022-02-25          3315   1214   0.018246  "
      ]
     },
     "execution_count": 62,
     "metadata": {},
     "output_type": "execute_result"
    }
   ],
   "source": [
    "df6 = pd.read_csv(r\"C:\\Users\\Aziz\\Desktop\\Github\\CSV\\dataset_info_by_date_art.csv\")\n",
    "df6.head(1)"
   ]
  },
  {
   "cell_type": "code",
   "execution_count": 63,
   "metadata": {},
   "outputs": [
    {
     "data": {
      "text/html": [
       "<div>\n",
       "<style scoped>\n",
       "    .dataframe tbody tr th:only-of-type {\n",
       "        vertical-align: middle;\n",
       "    }\n",
       "\n",
       "    .dataframe tbody tr th {\n",
       "        vertical-align: top;\n",
       "    }\n",
       "\n",
       "    .dataframe thead th {\n",
       "        text-align: right;\n",
       "    }\n",
       "</style>\n",
       "<table border=\"1\" class=\"dataframe\">\n",
       "  <thead>\n",
       "    <tr style=\"text-align: right;\">\n",
       "      <th></th>\n",
       "      <th>michelson_contrast</th>\n",
       "    </tr>\n",
       "  </thead>\n",
       "  <tbody>\n",
       "    <tr>\n",
       "      <th>0</th>\n",
       "      <td>1.0</td>\n",
       "    </tr>\n",
       "  </tbody>\n",
       "</table>\n",
       "</div>"
      ],
      "text/plain": [
       "   michelson_contrast\n",
       "0                 1.0"
      ]
     },
     "execution_count": 63,
     "metadata": {},
     "output_type": "execute_result"
    }
   ],
   "source": [
    "df7 = pd.read_csv(r\"C:\\Users\\Aziz\\Desktop\\Github\\CSV\\michelson_art.csv\")\n",
    "df7.head(1)"
   ]
  },
  {
   "cell_type": "code",
   "execution_count": 64,
   "metadata": {},
   "outputs": [
    {
     "data": {
      "text/html": [
       "<div>\n",
       "<style scoped>\n",
       "    .dataframe tbody tr th:only-of-type {\n",
       "        vertical-align: middle;\n",
       "    }\n",
       "\n",
       "    .dataframe tbody tr th {\n",
       "        vertical-align: top;\n",
       "    }\n",
       "\n",
       "    .dataframe thead th {\n",
       "        text-align: right;\n",
       "    }\n",
       "</style>\n",
       "<table border=\"1\" class=\"dataframe\">\n",
       "  <thead>\n",
       "    <tr style=\"text-align: right;\">\n",
       "      <th></th>\n",
       "      <th>Unnamed: 0</th>\n",
       "      <th>Wmc</th>\n",
       "      <th>Wmc2</th>\n",
       "      <th>Wmc3</th>\n",
       "      <th>Wmc4</th>\n",
       "      <th>Wmc5</th>\n",
       "      <th>Wmc6</th>\n",
       "      <th>Wmc7</th>\n",
       "      <th>Wmc8</th>\n",
       "      <th>Wmc9</th>\n",
       "      <th>...</th>\n",
       "      <th>Wmc141</th>\n",
       "      <th>Wmc142</th>\n",
       "      <th>Wmc143</th>\n",
       "      <th>Wmc144</th>\n",
       "      <th>Wmc145</th>\n",
       "      <th>Wmc146</th>\n",
       "      <th>Wmc147</th>\n",
       "      <th>Wmc148</th>\n",
       "      <th>Wmc149</th>\n",
       "      <th>Wmc150</th>\n",
       "    </tr>\n",
       "  </thead>\n",
       "  <tbody>\n",
       "    <tr>\n",
       "      <th>0</th>\n",
       "      <td>783</td>\n",
       "      <td>1</td>\n",
       "      <td>1</td>\n",
       "      <td>0</td>\n",
       "      <td>0</td>\n",
       "      <td>0</td>\n",
       "      <td>0</td>\n",
       "      <td>0</td>\n",
       "      <td>0</td>\n",
       "      <td>1</td>\n",
       "      <td>...</td>\n",
       "      <td>0</td>\n",
       "      <td>0</td>\n",
       "      <td>1</td>\n",
       "      <td>0</td>\n",
       "      <td>0</td>\n",
       "      <td>0</td>\n",
       "      <td>0</td>\n",
       "      <td>0</td>\n",
       "      <td>0</td>\n",
       "      <td>1</td>\n",
       "    </tr>\n",
       "  </tbody>\n",
       "</table>\n",
       "<p>1 rows × 151 columns</p>\n",
       "</div>"
      ],
      "text/plain": [
       "   Unnamed: 0  Wmc  Wmc2  Wmc3  Wmc4  Wmc5  Wmc6  Wmc7  Wmc8  Wmc9  ...  \\\n",
       "0         783    1     1     0     0     0     0     0     0     1  ...   \n",
       "\n",
       "   Wmc141  Wmc142  Wmc143  Wmc144  Wmc145  Wmc146  Wmc147  Wmc148  Wmc149  \\\n",
       "0       0       0       1       0       0       0       0       0       0   \n",
       "\n",
       "   Wmc150  \n",
       "0       1  \n",
       "\n",
       "[1 rows x 151 columns]"
      ]
     },
     "execution_count": 64,
     "metadata": {},
     "output_type": "execute_result"
    }
   ],
   "source": [
    "df8 = pd.read_csv(r\"C:\\Users\\Aziz\\Desktop\\Github\\CSV\\Wmc_ART_Ters.csv\")\n",
    "df8.head(1)"
   ]
  },
  {
   "cell_type": "code",
   "execution_count": 65,
   "metadata": {},
   "outputs": [
    {
     "data": {
      "text/plain": [
       "<matplotlib.collections.PathCollection at 0x1b380d53790>"
      ]
     },
     "execution_count": 65,
     "metadata": {},
     "output_type": "execute_result"
    },
    {
     "data": {
      "image/png": "[encoded data removed]",
      "text/plain": [
       "<Figure size 432x288 with 1 Axes>"
      ]
     },
     "metadata": {
      "needs_background": "light"
     },
     "output_type": "display_data"
    }
   ],
   "source": [
    "x = df['Hue']\n",
    "y = df6['like_rate']\n",
    "my_rho = np.corrcoef(x,y)\n",
    "plt.title('Correlation = %.2f' % my_rho[0,1])\n",
    "plt.xlabel(\"Average Hue ART\")\n",
    "plt.ylabel(\"Like Rate\")\n",
    "plt.scatter(x, y)"
   ]
  },
  {
   "cell_type": "code",
   "execution_count": 66,
   "metadata": {},
   "outputs": [
    {
     "data": {
      "text/plain": [
       "<matplotlib.collections.PathCollection at 0x1b380f47490>"
      ]
     },
     "execution_count": 66,
     "metadata": {},
     "output_type": "execute_result"
    },
    {
     "data": {
      "image/png": "[encoded data removed]",
      "text/plain": [
       "<Figure size 432x288 with 1 Axes>"
      ]
     },
     "metadata": {
      "needs_background": "light"
     },
     "output_type": "display_data"
    }
   ],
   "source": [
    "x = df['Saturation']\n",
    "y = df6['like_rate']\n",
    "my_rho = np.corrcoef(x,y)\n",
    "plt.title('Correlation = %.2f' % my_rho[0,1])\n",
    "plt.xlabel(\"Average Saturation ART\")\n",
    "plt.ylabel(\"Like Rate\")\n",
    "plt.scatter(x, y)"
   ]
  },
  {
   "cell_type": "code",
   "execution_count": 67,
   "metadata": {},
   "outputs": [
    {
     "data": {
      "text/plain": [
       "<matplotlib.collections.PathCollection at 0x1b380c54bb0>"
      ]
     },
     "execution_count": 67,
     "metadata": {},
     "output_type": "execute_result"
    },
    {
     "data": {
      "image/png": "[encoded data removed]",
      "text/plain": [
       "<Figure size 432x288 with 1 Axes>"
      ]
     },
     "metadata": {
      "needs_background": "light"
     },
     "output_type": "display_data"
    }
   ],
   "source": [
    "x = df2['Brightness']\n",
    "y = df6['like_rate']\n",
    "my_rho = np.corrcoef(x,y)\n",
    "plt.title('Correlation = %.2f' % my_rho[0,1])\n",
    "plt.xlabel(\"Brightness ART\")\n",
    "plt.ylabel(\"Like Rate\")\n",
    "plt.scatter(x, y)"
   ]
  },
  {
   "cell_type": "code",
   "execution_count": 68,
   "metadata": {},
   "outputs": [
    {
     "data": {
      "text/plain": [
       "<matplotlib.collections.PathCollection at 0x1b38206c160>"
      ]
     },
     "execution_count": 68,
     "metadata": {},
     "output_type": "execute_result"
    },
    {
     "data": {
      "image/png": "[encoded data removed]",
      "text/plain": [
       "<Figure size 432x288 with 1 Axes>"
      ]
     },
     "metadata": {
      "needs_background": "light"
     },
     "output_type": "display_data"
    }
   ],
   "source": [
    "x = df4['Number_of_Unique_Hues']\n",
    "y = df6['like_rate']\n",
    "my_rho = np.corrcoef(x,y)\n",
    "plt.title('Correlation = %.2f' % my_rho[0,1])\n",
    "plt.xlabel(\"Number of Unique Hues ART\")\n",
    "plt.ylabel(\"Like Rate\")\n",
    "plt.scatter(x, y)"
   ]
  },
  {
   "cell_type": "code",
   "execution_count": 69,
   "metadata": {},
   "outputs": [
    {
     "data": {
      "text/plain": [
       "<matplotlib.collections.PathCollection at 0x1b382108dc0>"
      ]
     },
     "execution_count": 69,
     "metadata": {},
     "output_type": "execute_result"
    },
    {
     "data": {
      "image/png": "[encoded data removed]",
      "text/plain": [
       "<Figure size 432x288 with 1 Axes>"
      ]
     },
     "metadata": {
      "needs_background": "light"
     },
     "output_type": "display_data"
    }
   ],
   "source": [
    "x = df4['Pixels_Belong_To_Dominant_Hue']\n",
    "y = df6['like_rate']\n",
    "my_rho = np.corrcoef(x,y)\n",
    "plt.title('Correlation = %.2f' % my_rho[0,1])\n",
    "plt.xlabel(\"Pixels Belongs to Dominant Hue ART\")\n",
    "plt.ylabel(\"Like Rate\")\n",
    "plt.scatter(x, y)"
   ]
  },
  {
   "cell_type": "code",
   "execution_count": 70,
   "metadata": {},
   "outputs": [
    {
     "data": {
      "text/plain": [
       "<matplotlib.collections.PathCollection at 0x1b3820e9220>"
      ]
     },
     "execution_count": 70,
     "metadata": {},
     "output_type": "execute_result"
    },
    {
     "data": {
      "image/png": "[encoded data removed]",
      "text/plain": [
       "<Figure size 432x288 with 1 Axes>"
      ]
     },
     "metadata": {
      "needs_background": "light"
     },
     "output_type": "display_data"
    }
   ],
   "source": [
    "x = df5['Entropy']\n",
    "y = df6['like_rate']\n",
    "my_rho = np.corrcoef(x,y)\n",
    "plt.title('Correlation = %.2f' % my_rho[0,1])\n",
    "plt.xlabel(\"Entropy of ART\")\n",
    "plt.ylabel(\"Like Rate\")\n",
    "plt.scatter(x, y)"
   ]
  },
  {
   "cell_type": "code",
   "execution_count": 71,
   "metadata": {},
   "outputs": [
    {
     "data": {
      "text/plain": [
       "<matplotlib.collections.PathCollection at 0x1b38219c8e0>"
      ]
     },
     "execution_count": 71,
     "metadata": {},
     "output_type": "execute_result"
    },
    {
     "data": {
      "image/png": "[encoded data removed]",
      "text/plain": [
       "<Figure size 432x288 with 1 Axes>"
      ]
     },
     "metadata": {
      "needs_background": "light"
     },
     "output_type": "display_data"
    }
   ],
   "source": [
    "x = df7['michelson_contrast']\n",
    "y = df6['like_rate']\n",
    "my_rho = np.corrcoef(x,y)\n",
    "plt.title('Correlation = %.2f' % my_rho[0,1])\n",
    "plt.xlabel(\"Michelson Contrast of ART\")\n",
    "plt.ylabel(\"Like Rate\")\n",
    "plt.scatter(x, y)"
   ]
  },
  {
   "cell_type": "code",
   "execution_count": null,
   "metadata": {},
   "outputs": [],
   "source": []
  },
  {
   "cell_type": "code",
   "execution_count": null,
   "metadata": {},
   "outputs": [],
   "source": []
  }
 ],
 "metadata": {
  "kernelspec": {
   "display_name": "Python 3",
   "language": "python",
   "name": "python3"
  },
  "language_info": {
   "codemirror_mode": {
    "name": "ipython",
    "version": 3
   },
   "file_extension": ".py",
   "mimetype": "text/x-python",
   "name": "python",
   "nbconvert_exporter": "python",
   "pygments_lexer": "ipython3",
   "version": "3.8.5"
  }
 },
 "nbformat": 4,
 "nbformat_minor": 4
}
