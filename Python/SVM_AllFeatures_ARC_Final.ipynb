{
 "cells": [
  {
   "cell_type": "code",
   "execution_count": 1,
   "metadata": {},
   "outputs": [],
   "source": [
    "from sklearn import svm\n",
    "import sklearn.model_selection as model_selection\n",
    "from sklearn.metrics import accuracy_score\n",
    "from sklearn.metrics import f1_score\n",
    "import pandas as pd\n",
    "from sklearn.decomposition import PCA\n",
    "from sklearn.metrics import confusion_matrix\n",
    "from sklearn.model_selection import train_test_split\n",
    "import matplotlib.pyplot as plt\n",
    "import numpy as np"
   ]
  },
  {
   "cell_type": "code",
   "execution_count": 30,
   "metadata": {},
   "outputs": [],
   "source": [
    "column=['pca0','pca1','pca2','pca3','pca4','pca5','pca6',\n",
    "        'pca7','pca8','pca9','pca10','pca11','pca12','pca13',\n",
    "        'pca14','pca15','pca16','pca17','pca18','pca19','pca20',\n",
    "        'pca21','pca22','pca23','pca24','pca25','pca26','pca27',\n",
    "        'pca28','pca29','pca30','pca31','pca32','pca33','pca34',\n",
    "        'pca35','pca36','pca37','pca38','pca39','pca40','pca41',\n",
    "        'pca42','pca43','pca44','pca45','pca46','pca47','pca48','pca49']"
   ]
  },
  {
   "cell_type": "code",
   "execution_count": 31,
   "metadata": {},
   "outputs": [],
   "source": [
    "df_lowmid_arc = pd.read_csv(r\"C:\\Users\\dtemu\\Desktop\\Bitirme\\GitHub\\Final\\GraduationProject-main\\CSV\\ALLFeatures_ARC.csv\")\n",
    "df_lowmid_arc.drop('like_rate',inplace=True,axis=1)\n",
    "df_lowmid_arc.drop('Unnamed: 0',inplace=True,axis=1)\n",
    "df_lowmid_arc.drop('like_rate_segmentation',inplace=True,axis=1)\n",
    "like_rate = pd.DataFrame()\n",
    "like_rate['like_rate_segmentation'] = df_lowmid_arc['like_rate_segmentation.1']\n",
    "df_lowmid_arc.pop('like_rate_segmentation.1')\n",
    "df_lowmid_arc.dropna(inplace=True)\n",
    "pca = PCA(n_components=50) # 2 dimensional PCA\n",
    "pca.fit(df_lowmid_arc)\n",
    "df_pca = pca.transform(df_lowmid_arc) \n",
    "df = pd.DataFrame(data=df_pca,columns=column)\n",
    "df['like_rate_segmentation'] = like_rate['like_rate_segmentation']"
   ]
  },
  {
   "cell_type": "code",
   "execution_count": 32,
   "metadata": {},
   "outputs": [],
   "source": [
    "X = df.iloc[:, :-1]\n",
    "y = df.loc[:, 'like_rate_segmentation']\n",
    "X_train, X_test, y_train, y_test = train_test_split(X, y, train_size=0.8, random_state = 0)"
   ]
  },
  {
   "cell_type": "code",
   "execution_count": 33,
   "metadata": {},
   "outputs": [],
   "source": [
    "linear = svm.SVC(kernel='linear', C=1, decision_function_shape='ovo').fit(X_train, y_train)\n",
    "rbf = svm.SVC(kernel='rbf', gamma=1, C=1, decision_function_shape='ovo').fit(X_train, y_train)\n",
    "poly = svm.SVC(kernel='poly', degree=3, C=1, decision_function_shape='ovo').fit(X_train, y_train)\n",
    "sig = svm.SVC(kernel='sigmoid', C=1, decision_function_shape='ovo').fit(X_train, y_train)"
   ]
  },
  {
   "cell_type": "code",
   "execution_count": 34,
   "metadata": {},
   "outputs": [],
   "source": [
    "linear_pred = linear.predict(X_test)\n",
    "poly_pred = poly.predict(X_test)\n",
    "rbf_pred = rbf.predict(X_test)\n",
    "sig_pred = sig.predict(X_test)"
   ]
  },
  {
   "cell_type": "code",
   "execution_count": 35,
   "metadata": {},
   "outputs": [
    {
     "name": "stdout",
     "output_type": "stream",
     "text": [
      "Accuracy (Polynomial Kernel):  38.85\n",
      "F1 (Polynomial Kernel):  36.78\n",
      "Accuracy (RBF Kernel):  29.94\n",
      "F1 (RBF Kernel):  25.82\n",
      "Accuracy (linear Kernel):  50.32\n",
      "F1 (linear Kernel):  50.59\n",
      "Accuracy (sig Kernel):  43.31\n",
      "F1 (sig Kernel):  43.57\n"
     ]
    }
   ],
   "source": [
    "poly_accuracy = accuracy_score(y_test, poly_pred)\n",
    "poly_f1 = f1_score(y_test, poly_pred, average='weighted')\n",
    "print('Accuracy (Polynomial Kernel): ', \"%.2f\" % (poly_accuracy*100))\n",
    "print('F1 (Polynomial Kernel): ', \"%.2f\" % (poly_f1*100))\n",
    "rbf_accuracy = accuracy_score(y_test, rbf_pred)\n",
    "rbf_f1 = f1_score(y_test, rbf_pred, average='weighted')\n",
    "print('Accuracy (RBF Kernel): ', \"%.2f\" % (rbf_accuracy*100))\n",
    "print('F1 (RBF Kernel): ', \"%.2f\" % (rbf_f1*100))\n",
    "lin_accuracy = accuracy_score(y_test, linear_pred)\n",
    "lin_f1 = f1_score(y_test, linear_pred, average='weighted')\n",
    "print('Accuracy (linear Kernel): ', \"%.2f\" % (lin_accuracy*100))\n",
    "print('F1 (linear Kernel): ', \"%.2f\" % (lin_f1*100))\n",
    "sig_accuracy = accuracy_score(y_test, sig_pred)\n",
    "sig_f1 = f1_score(y_test, sig_pred, average='weighted')\n",
    "print('Accuracy (sig Kernel): ', \"%.2f\" % (sig_accuracy*100))\n",
    "print('F1 (sig Kernel): ', \"%.2f\" % (sig_f1*100))"
   ]
  },
  {
   "cell_type": "code",
   "execution_count": null,
   "metadata": {},
   "outputs": [],
   "source": []
  }
 ],
 "metadata": {
  "kernelspec": {
   "display_name": "Python 3 (ipykernel)",
   "language": "python",
   "name": "python3"
  },
  "language_info": {
   "codemirror_mode": {
    "name": "ipython",
    "version": 3
   },
   "file_extension": ".py",
   "mimetype": "text/x-python",
   "name": "python",
   "nbconvert_exporter": "python",
   "pygments_lexer": "ipython3",
   "version": "3.9.7"
  }
 },
 "nbformat": 4,
 "nbformat_minor": 4
}
