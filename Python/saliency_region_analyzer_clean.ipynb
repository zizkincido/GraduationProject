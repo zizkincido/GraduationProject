{
  "nbformat": 4,
  "nbformat_minor": 0,
  "metadata": {
    "colab": {
      "name": "saliency_region_analyzer_clean.ipynb",
      "provenance": [],
      "collapsed_sections": []
    },
    "kernelspec": {
      "name": "python3",
      "display_name": "Python 3"
    },
    "language_info": {
      "name": "python"
    }
  },
  "cells": [
    {
      "cell_type": "code",
      "execution_count": null,
      "metadata": {
        "id": "H7J3MIei8SLD"
      },
      "outputs": [],
      "source": [
        "# import the necessary packages\n",
        "import cv2\n",
        "from matplotlib import pyplot as plt\n",
        "from PIL import Image\n",
        "import numpy as np\n",
        "import pandas as pd\n",
        "from scipy import ndimage\n",
        "from google.colab.patches import cv2_imshow\n",
        "import imutils"
      ]
    },
    {
      "cell_type": "code",
      "source": [
        "from google.colab import drive\n",
        "drive.mount('/content/drive')"
      ],
      "metadata": {
        "colab": {
          "base_uri": "https://localhost:8080/"
        },
        "id": "jRlLfXgbDvrx",
        "outputId": "bb0a03fa-c3e2-4acf-82de-16ed19511399"
      },
      "execution_count": null,
      "outputs": [
        {
          "output_type": "stream",
          "name": "stdout",
          "text": [
            "Mounted at /content/drive\n"
          ]
        }
      ]
    },
    {
      "cell_type": "code",
      "source": [
        "def black_and_white_rounder(x, base=255):\n",
        "  if x > 50:\n",
        "    return 1\n",
        "  return 0 \n",
        "  # result =  base * round(float(x) / base)\n",
        "black_and_white_rounder(128)  "
      ],
      "metadata": {
        "colab": {
          "base_uri": "https://localhost:8080/"
        },
        "id": "WInwPGA9TNQj",
        "outputId": "da0586cb-0830-4cb0-bed4-77224cccecf7"
      },
      "execution_count": null,
      "outputs": [
        {
          "output_type": "execute_result",
          "data": {
            "text/plain": [
              "1"
            ]
          },
          "metadata": {},
          "execution_count": 3
        }
      ]
    },
    {
      "cell_type": "code",
      "source": [
        "def remove_small_areas(matrix3):\n",
        "  img = (matrix3 * 1).astype(\"uint8\")\n",
        "  gray = cv2.cvtColor(img,cv2.COLOR_BGR2GRAY)\n",
        "  _,thresh = cv2.threshold(gray,1,255,cv2.THRESH_BINARY)\n",
        "  # \n",
        "  #find all your connected components (white blobs in your image)\n",
        "  nb_components, output, stats, centroids = cv2.connectedComponentsWithStats(thresh, connectivity=8)\n",
        "  #connectedComponentswithStats yields every seperated component with information on each of them, such as size\n",
        "  #the following part is just taking out the background which is also considered a component, but most of the time we don't want that.\n",
        "  sizes = stats[1:, -1]; nb_components = nb_components - 1\n",
        "  print(max(sizes)/nb_components)\n",
        "  # minimum size of particles we want to keep (number of pixels)\n",
        "  #here, it's a fixed value, but you can set it as you want, eg the mean of the sizes or whatever\n",
        "  min_size = 15000 \n",
        "\n",
        "  #your answer image\n",
        "  img2 = np.zeros((output.shape),np.uint8)\n",
        "  #for every component in the image, you keep it only if it's above min_size\n",
        "  for i in range(0, nb_components):\n",
        "      if sizes[i] >= min_size:\n",
        "          img2[output == i + 1] = 255\n",
        "  # cv2_imshow(img2)\n",
        "  matrix4 = cv2.cvtColor(img2,cv2.COLOR_GRAY2BGR)\n",
        "  return matrix4"
      ],
      "metadata": {
        "id": "S12KQU-Pz85A"
      },
      "execution_count": null,
      "outputs": []
    },
    {
      "cell_type": "code",
      "source": [
        "dataset_path = \"/content/drive/MyDrive/Database/ARC DATABASE/dataset_info_by_date.csv\"\n",
        "df = pd.read_csv(dataset_path)\n",
        "\n",
        "for index, row in df.iterrows():\n",
        "    print(row)\n",
        "    try:\n",
        "      file_path = row['full_path']\n",
        "      image = cv2.imread(file_path)\n",
        "      saliency = cv2.saliency.StaticSaliencySpectralResidual_create()\n",
        "      (success, saliencyMap) = saliency.computeSaliency(image)\n",
        "      saliencyMap = (saliencyMap * 255).astype(\"uint8\")\n",
        "\n",
        "      img = Image.fromarray(saliencyMap)\n",
        "      new_path = file_path.replace(\".jpg\", \"saliency_map.png\")\n",
        "      img.save(new_path) # Image saving to another directory\n",
        "      \n",
        "      # \n",
        "      file_path = row['full_path'].replace(\".jpg\", \"saliency_map.png\")\n",
        "      matrix1 = cv2.imread(file_path)\n",
        "      matrix2 = cv2.imread(row['full_path'])\n",
        "      # \n",
        "      squarer = lambda t: black_and_white_rounder(t)\n",
        "      vfunc = np.vectorize(squarer)\n",
        "      matrix4 = vfunc(matrix1)\n",
        "\n",
        "      matrix3 = np.multiply(matrix4,matrix2)\n",
        "      # \n",
        "      matrix4 = remove_small_areas(matrix3)\n",
        "      # \n",
        "\n",
        "      map = np.argwhere( (matrix4[:, :, 0:3] != [0,0,0]).all(2))\n",
        "      min_y = min(map[:,0])\n",
        "      min_x = min(map[:,1])\n",
        "      max_y = max(map[:,0])\n",
        "      max_x = max(map[:,1])\n",
        "      print(min_y,min_x,max_y,max_x)\n",
        "      cropped = matrix2[min_y:max_y,min_x:max_x]\n",
        "\n",
        "      # \n",
        "      # cropped_array = (cropped * 255).astype(\"uint8\")\n",
        "      # img = Image.fromarray(cropped_array)\n",
        "      new_path = row['full_path'].replace(\".jpg\", \"_cropped.png\")\n",
        "      # img.save(new_path) # Image saving to another directory\n",
        "      cv2.imwrite(new_path,cropped)\n",
        "      print(new_path)\n",
        "\n",
        "    except Exception as err:\n",
        "      print(err)\n",
        "      continue"
      ],
      "metadata": {
        "colab": {
          "base_uri": "https://localhost:8080/"
        },
        "id": "8vzmI_bGziEP",
        "outputId": "57743cc7-c6c8-449b-ac56-28abdbb94b6a"
      },
      "execution_count": null,
      "outputs": [
        {
          "output_type": "stream",
          "name": "stdout",
          "text": [
            "id                                                  2778569169971553819\n",
            "username                                                       le_blanc\n",
            "full_path             /content/drive/MyDrive/Database/ARC DATABASE/l...\n",
            "account_created_at                                  2011-08-14 00:00:00\n",
            "posted_at                                                    2022-02-21\n",
            "days_between                                                       3844\n",
            "likes                                                       2260.662043\n",
            "like_rate                                                      0.009483\n",
            "Name: 0, dtype: object\n",
            "5504.285714285715\n",
            "712 0 1439 1439\n",
            "/content/drive/MyDrive/Database/ARC DATABASE/le_blanc/2022-02-21_13-47-58_UTC_cropped.png\n",
            "id                                                  2774931022469536859\n",
            "username                                                       le_blanc\n",
            "full_path             /content/drive/MyDrive/Database/ARC DATABASE/l...\n",
            "account_created_at                                  2011-08-14 00:00:00\n",
            "posted_at                                                    2022-02-16\n",
            "days_between                                                       3839\n",
            "likes                                                       2260.662043\n",
            "like_rate                                                      0.009501\n",
            "Name: 1, dtype: object\n",
            "4750.8\n",
            "0 0 430 1038\n",
            "/content/drive/MyDrive/Database/ARC DATABASE/le_blanc/2022-02-16_13-19-37_UTC_cropped.png\n",
            "id                                                  2774223415215815054\n",
            "username                                                       le_blanc\n",
            "full_path             /content/drive/MyDrive/Database/ARC DATABASE/l...\n",
            "account_created_at                                  2011-08-14 00:00:00\n",
            "posted_at                                                    2022-02-15\n",
            "days_between                                                       3838\n",
            "likes                                                       2260.662043\n",
            "like_rate                                                      0.009505\n",
            "Name: 2, dtype: object\n",
            "5348.0\n",
            "1305 335 1439 651\n",
            "/content/drive/MyDrive/Database/ARC DATABASE/le_blanc/2022-02-15_13-53-44_UTC_cropped.png\n",
            "id                                                  2773488369429255087\n",
            "username                                                       le_blanc\n",
            "full_path             /content/drive/MyDrive/Database/ARC DATABASE/l...\n",
            "account_created_at                                  2011-08-14 00:00:00\n",
            "posted_at                                                    2022-02-14\n",
            "days_between                                                       3837\n",
            "likes                                                       2260.662043\n",
            "like_rate                                                      0.009509\n",
            "Name: 3, dtype: object\n",
            "28752.272727272728\n",
            "0 0 1439 1439\n",
            "/content/drive/MyDrive/Database/ARC DATABASE/le_blanc/2022-02-14_13-33-19_UTC_cropped.png\n",
            "id                                                  2771304575095955478\n",
            "username                                                       le_blanc\n",
            "full_path             /content/drive/MyDrive/Database/ARC DATABASE/l...\n",
            "account_created_at                                  2011-08-14 00:00:00\n",
            "posted_at                                                    2022-02-11\n",
            "days_between                                                       3834\n",
            "likes                                                       2260.662043\n",
            "like_rate                                                       0.00952\n",
            "Name: 4, dtype: object\n",
            "11328.885714285714\n",
            "0 0 1439 1439\n",
            "/content/drive/MyDrive/Database/ARC DATABASE/le_blanc/2022-02-11_13-14-31_UTC_cropped.png\n"
          ]
        }
      ]
    }
  ]
}