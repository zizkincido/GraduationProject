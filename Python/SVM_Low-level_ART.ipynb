{
 "cells": [
  {
   "cell_type": "code",
   "execution_count": 1,
   "metadata": {},
   "outputs": [],
   "source": [
    "from sklearn import svm\n",
    "import sklearn.model_selection as model_selection\n",
    "from sklearn.metrics import accuracy_score\n",
    "from sklearn.metrics import f1_score\n",
    "import pandas as pd\n",
    "from sklearn.decomposition import PCA\n",
    "from sklearn.metrics import confusion_matrix\n",
    "from sklearn.model_selection import train_test_split\n",
    "import matplotlib.pyplot as plt\n",
    "import numpy as np"
   ]
  },
  {
   "cell_type": "code",
   "execution_count": 2,
   "metadata": {},
   "outputs": [],
   "source": [
    "df_low_art = pd.read_csv(r\"C:\\Users\\Aziz\\Desktop\\Github\\CSV\\LowMergedFeatured_ART.csv\")\n",
    "df_low_art = df_low_art.dropna()\n",
    "like_rate = pd.DataFrame()\n",
    "like_rate['like_rate_segmentation'] = df_low_art['like_rate_segmentation.1']\n",
    "df_low_art.pop('like_rate_segmentation')\n",
    "df_low_art.pop('Unnamed: 0')\n",
    "df_low_art.pop('like_rate_segmentation.1')\n",
    "df = df_low_art\n",
    "df['like_rate_segmentation'] = like_rate['like_rate_segmentation']\n",
    "df\n",
    "X = df.iloc[:, :-1]\n",
    "y = df.loc[:, 'like_rate_segmentation']\n",
    "X_train, X_test, y_train, y_test = train_test_split(X, y, train_size=0.8, random_state = 0)\n"
   ]
  },
  {
   "cell_type": "code",
   "execution_count": null,
   "metadata": {},
   "outputs": [],
   "source": [
    "linear = svm.SVC(kernel='linear', C=1, decision_function_shape='ovo').fit(X_train, y_train)\n",
    "rbf = svm.SVC(kernel='rbf', gamma=1, C=1, decision_function_shape='ovo').fit(X_train, y_train)\n",
    "poly = svm.SVC(kernel='poly', degree=3, C=1, decision_function_shape='ovo').fit(X_train, y_train)\n",
    "sig = svm.SVC(kernel='sigmoid', C=1, decision_function_shape='ovo').fit(X_train, y_train)"
   ]
  },
  {
   "cell_type": "code",
   "execution_count": null,
   "metadata": {},
   "outputs": [],
   "source": [
    "linear_pred = linear.predict(X_test)\n",
    "poly_pred = poly.predict(X_test)\n",
    "rbf_pred = rbf.predict(X_test)\n",
    "sig_pred = sig.predict(X_test)"
   ]
  },
  {
   "cell_type": "code",
   "execution_count": null,
   "metadata": {},
   "outputs": [],
   "source": [
    "poly_accuracy = accuracy_score(y_test, poly_pred)\n",
    "poly_f1 = f1_score(y_test, poly_pred, average='weighted')\n",
    "print('Accuracy (Polynomial Kernel): ', \"%.2f\" % (poly_accuracy*100))\n",
    "print('F1 (Polynomial Kernel): ', \"%.2f\" % (poly_f1*100))\n",
    "rbf_accuracy = accuracy_score(y_test, rbf_pred)\n",
    "rbf_f1 = f1_score(y_test, rbf_pred, average='weighted')\n",
    "print('Accuracy (RBF Kernel): ', \"%.2f\" % (rbf_accuracy*100))\n",
    "print('F1 (RBF Kernel): ', \"%.2f\" % (rbf_f1*100))\n",
    "lin_accuracy = accuracy_score(y_test, linear_pred)\n",
    "lin_f1 = f1_score(y_test, linear_pred, average='weighted')\n",
    "print('Accuracy (linear Kernel): ', \"%.2f\" % (lin_accuracy*100))\n",
    "print('F1 (linear Kernel): ', \"%.2f\" % (lin_f1*100))\n",
    "sig_accuracy = accuracy_score(y_test, sig_pred)\n",
    "sig_f1 = f1_score(y_test, sig_pred, average='weighted')\n",
    "print('Accuracy (sig Kernel): ', \"%.2f\" % (sig_accuracy*100))\n",
    "print('F1 (sig Kernel): ', \"%.2f\" % (sig_f1*100))"
   ]
  },
  {
   "cell_type": "code",
   "execution_count": null,
   "metadata": {},
   "outputs": [],
   "source": []
  }
 ],
 "metadata": {
  "kernelspec": {
   "display_name": "Python 3",
   "language": "python",
   "name": "python3"
  },
  "language_info": {
   "codemirror_mode": {
    "name": "ipython",
    "version": 3
   },
   "file_extension": ".py",
   "mimetype": "text/x-python",
   "name": "python",
   "nbconvert_exporter": "python",
   "pygments_lexer": "ipython3",
   "version": "3.8.5"
  }
 },
 "nbformat": 4,
 "nbformat_minor": 4
}
