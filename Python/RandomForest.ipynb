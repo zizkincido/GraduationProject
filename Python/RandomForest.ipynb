{
 "cells": [
  {
   "cell_type": "code",
   "execution_count": 1,
   "metadata": {},
   "outputs": [],
   "source": [
    "import sklearn.model_selection as model_selection\n",
    "from sklearn.metrics import accuracy_score\n",
    "from sklearn.metrics import f1_score\n",
    "import pandas as pd\n",
    "from sklearn.decomposition import PCA\n",
    "from sklearn.metrics import confusion_matrix\n",
    "from sklearn.model_selection import train_test_split\n",
    "import matplotlib.pyplot as plt\n",
    "import numpy as np"
   ]
  },
  {
   "cell_type": "code",
   "execution_count": 2,
   "metadata": {},
   "outputs": [],
   "source": [
    "column=['pca0','pca1','pca2','pca3','pca4','pca5','pca6',\n",
    "        'pca7','pca8','pca9','pca10','pca11','pca12','pca13',\n",
    "        'pca14','pca15','pca16','pca17','pca18','pca19','pca20',\n",
    "        'pca21','pca22','pca23','pca24','pca25','pca26','pca27',\n",
    "        'pca28','pca29','pca30','pca31','pca32','pca33','pca34',\n",
    "        'pca35','pca36','pca37','pca38','pca39','pca40','pca41',\n",
    "        'pca42','pca43','pca44','pca45','pca46','pca47','pca48','pca49']"
   ]
  },
  {
   "cell_type": "code",
   "execution_count": 3,
   "metadata": {},
   "outputs": [
    {
     "name": "stdout",
     "output_type": "stream",
     "text": [
      "Low level arc Accuracy: 0.9074074074074074\n",
      "low level arc f1 score: 0.9062439154553537\n"
     ]
    }
   ],
   "source": [
    "df_low_arc = pd.read_csv(r\"C:\\Users\\Aziz\\Desktop\\Discovering How Low- and Mid-level Image Features Relate with Instagram Likes -Source Codes\\CSV\\LowMergedFeatured_ARC.csv\")\n",
    "df_low_arc.pop('Unnamed: 0')\n",
    "df_low_arc\n",
    "like_rate = pd.DataFrame()\n",
    "like_rate['like_rate_segmentation'] = df_low_arc['like_rate_segmentation.1']\n",
    "df_low_arc.pop('like_rate_segmentation')\n",
    "df_low_arc.pop('like_rate_segmentation.1')\n",
    "df = df_low_arc\n",
    "df['like_rate_segmentation'] = like_rate['like_rate_segmentation']\n",
    "X = df.iloc[:, :-1]\n",
    "y = df.loc[:, 'like_rate_segmentation']\n",
    "X_train, X_test, y_train, y_test = train_test_split(X, y, train_size=0.8, random_state = 0)\n",
    "#Import Random Forest Model\n",
    "from sklearn.ensemble import RandomForestClassifier\n",
    "\n",
    "#Create a Gaussian Classifier\n",
    "clf=RandomForestClassifier(n_estimators=100)\n",
    "\n",
    "#Train the model using the training sets y_pred=clf.predict(X_test)\n",
    "clf.fit(X_train,y_train)\n",
    "\n",
    "y_pred=clf.predict(X_test)\n",
    "#Import scikit-learn metrics module for accuracy calculation\n",
    "from sklearn import metrics\n",
    "# Model Accuracy, how often is the classifier correct?\n",
    "print(\"Low level arc Accuracy:\",metrics.accuracy_score(y_test, y_pred))\n",
    "print(\"low level arc f1 score:\",f1_score(y_test, y_pred, average='weighted'))"
   ]
  },
  {
   "cell_type": "code",
   "execution_count": 4,
   "metadata": {},
   "outputs": [
    {
     "name": "stdout",
     "output_type": "stream",
     "text": [
      "Low level art Accuracy: 0.7898089171974523\n",
      "low level art f1 score: 0.7881234130849559\n"
     ]
    }
   ],
   "source": [
    "df_low_art = pd.read_csv(r\"C:\\Users\\Aziz\\Desktop\\Discovering How Low- and Mid-level Image Features Relate with Instagram Likes -Source Codes\\CSV\\LowMergedFeatured_ART.csv\")\n",
    "like_rate = pd.DataFrame()\n",
    "like_rate['like_rate_segmentation'] = df_low_art['like_rate_segmentation.1']\n",
    "df_low_art.pop('like_rate_segmentation')\n",
    "df_low_art.pop('Unnamed: 0')\n",
    "df_low_art.pop('id')\n",
    "df_low_art.pop('like_rate_segmentation.1')\n",
    "df = df_low_art\n",
    "df['like_rate_segmentation'] = like_rate['like_rate_segmentation']\n",
    "df\n",
    "X = df.iloc[:, :-1]\n",
    "y = df.loc[:, 'like_rate_segmentation']\n",
    "X_train, X_test, y_train, y_test = train_test_split(X, y, train_size=0.8, random_state = 0)\n",
    "#Import Random Forest Model\n",
    "from sklearn.ensemble import RandomForestClassifier\n",
    "\n",
    "#Create a Gaussian Classifier\n",
    "clf=RandomForestClassifier(n_estimators=100)\n",
    "\n",
    "#Train the model using the training sets y_pred=clf.predict(X_test)\n",
    "clf.fit(X_train,y_train)\n",
    "\n",
    "y_pred=clf.predict(X_test)\n",
    "#Import scikit-learn metrics module for accuracy calculation\n",
    "from sklearn import metrics\n",
    "# Model Accuracy, how often is the classifier correct?\n",
    "print(\"Low level art Accuracy:\",metrics.accuracy_score(y_test, y_pred))\n",
    "print(\"low level art f1 score:\",f1_score(y_test, y_pred, average='weighted'))"
   ]
  },
  {
   "cell_type": "code",
   "execution_count": 5,
   "metadata": {},
   "outputs": [
    {
     "name": "stdout",
     "output_type": "stream",
     "text": [
      "Low mid level arc Accuracy: 0.4012345679012346\n",
      "low mid level arc f1 score: 0.396057463921241\n"
     ]
    }
   ],
   "source": [
    "df_lowmid_arc = pd.read_csv(r\"C:\\Users\\Aziz\\Desktop\\Discovering How Low- and Mid-level Image Features Relate with Instagram Likes -Source Codes\\CSV\\LowAndMidMergedFeatures_ARC.csv\")\n",
    "df_lowmid_arc\n",
    "like_rate = pd.DataFrame()\n",
    "like_rate['like_rate_segmentation'] = df_lowmid_arc['like_rate_segmentation.1']\n",
    "df_lowmid_arc.pop('like_rate_segmentation')\n",
    "df_lowmid_arc.pop('Unnamed: 0')\n",
    "df_lowmid_arc.pop('like_rate_segmentation.1')\n",
    "pca = PCA(n_components=50) # 2 dimensional PCA\n",
    "pca.fit(df_lowmid_arc)\n",
    "df_pca = pca.transform(df_lowmid_arc) \n",
    "df = pd.DataFrame(data=df_pca,columns=column)\n",
    "df['like_rate_segmentation'] = like_rate['like_rate_segmentation']\n",
    "X = df.iloc[:, :-1]\n",
    "y = df.loc[:, 'like_rate_segmentation']\n",
    "X_train, X_test, y_train, y_test = train_test_split(X, y, train_size=0.8, random_state = 0)\n",
    "#Import Random Forest Model\n",
    "from sklearn.ensemble import RandomForestClassifier\n",
    "\n",
    "#Create a Gaussian Classifier\n",
    "clf=RandomForestClassifier(n_estimators=100)\n",
    "\n",
    "#Train the model using the training sets y_pred=clf.predict(X_test)\n",
    "clf.fit(X_train,y_train)\n",
    "\n",
    "y_pred=clf.predict(X_test)\n",
    "#Import scikit-learn metrics module for accuracy calculation\n",
    "from sklearn import metrics\n",
    "# Model Accuracy, how often is the classifier correct?\n",
    "print(\"Low mid level arc Accuracy:\",metrics.accuracy_score(y_test, y_pred))\n",
    "print(\"low mid level arc f1 score:\",f1_score(y_test, y_pred, average='weighted'))"
   ]
  },
  {
   "cell_type": "code",
   "execution_count": 6,
   "metadata": {},
   "outputs": [
    {
     "name": "stdout",
     "output_type": "stream",
     "text": [
      "Low mid level art Accuracy: 0.3184713375796178\n",
      "low mid level art f1 score: 0.30868971563441716\n"
     ]
    }
   ],
   "source": [
    "df_lowmid_art = pd.read_csv(r\"C:\\Users\\Aziz\\Desktop\\Discovering How Low- and Mid-level Image Features Relate with Instagram Likes -Source Codes\\CSV\\LowAndMidMergedFeatured_ART.csv\")\n",
    "df_lowmid_art\n",
    "like_rate = pd.DataFrame()\n",
    "like_rate['like_rate_segmentation'] = df_lowmid_art['like_rate_segmentation.1']\n",
    "df_lowmid_art.pop('like_rate_segmentation')\n",
    "df_lowmid_art.pop('Unnamed: 0')\n",
    "df_lowmid_art.pop('like_rate_segmentation.1')\n",
    "pca = PCA(n_components=50) # 2 dimensional PCA\n",
    "pca.fit(df_lowmid_art)\n",
    "df_pca = pca.transform(df_lowmid_art) \n",
    "df = pd.DataFrame(data=df_pca,columns=column)\n",
    "df['like_rate_segmentation'] = like_rate['like_rate_segmentation']\n",
    "X = df.iloc[:, :-1]\n",
    "y = df.loc[:, 'like_rate_segmentation']\n",
    "X_train, X_test, y_train, y_test = train_test_split(X, y, train_size=0.8, random_state = 0)\n",
    "#Import Random Forest Model\n",
    "from sklearn.ensemble import RandomForestClassifier\n",
    "\n",
    "#Create a Gaussian Classifier\n",
    "clf=RandomForestClassifier(n_estimators=100)\n",
    "\n",
    "#Train the model using the training sets y_pred=clf.predict(X_test)\n",
    "clf.fit(X_train,y_train)\n",
    "\n",
    "y_pred=clf.predict(X_test)\n",
    "#Import scikit-learn metrics module for accuracy calculation\n",
    "from sklearn import metrics\n",
    "# Model Accuracy, how often is the classifier correct?\n",
    "print(\"Low mid level art Accuracy:\",metrics.accuracy_score(y_test, y_pred))\n",
    "print(\"low mid level art f1 score:\",f1_score(y_test, y_pred, average='weighted'))"
   ]
  },
  {
   "cell_type": "code",
   "execution_count": 7,
   "metadata": {},
   "outputs": [
    {
     "name": "stdout",
     "output_type": "stream",
     "text": [
      "Low mid level salience arc Accuracy: 0.4585987261146497\n",
      "low mid level salience arc f1 score: 0.4734193552557153\n"
     ]
    }
   ],
   "source": [
    "df_lowmid_arc = pd.read_csv(r\"C:\\Users\\Aziz\\Desktop\\Discovering How Low- and Mid-level Image Features Relate with Instagram Likes -Source Codes\\CSV\\LowAndMidMergedFeatures_ARC_salience.csv\")\n",
    "like_rate = pd.DataFrame()\n",
    "like_rate['like_rate_segmentation'] = df_lowmid_arc['like_rate_segmentation.1']\n",
    "df_lowmid_arc.pop('like_rate_segmentation')\n",
    "df_lowmid_arc.pop('Unnamed: 0')\n",
    "df_lowmid_arc.pop('like_rate_segmentation.1')\n",
    "df_lowmid_arc.dropna(inplace=True)\n",
    "pca = PCA(n_components=50) # 2 dimensional PCA\n",
    "pca.fit(df_lowmid_arc)\n",
    "df_pca = pca.transform(df_lowmid_arc) \n",
    "df = pd.DataFrame(data=df_pca,columns=column)\n",
    "df['like_rate_segmentation'] = like_rate['like_rate_segmentation']\n",
    "X = df.iloc[:, :-1]\n",
    "y = df.loc[:, 'like_rate_segmentation']\n",
    "X_train, X_test, y_train, y_test = train_test_split(X, y, train_size=0.8, random_state = 0)\n",
    "#Import Random Forest Model\n",
    "from sklearn.ensemble import RandomForestClassifier\n",
    "\n",
    "#Create a Gaussian Classifier\n",
    "clf=RandomForestClassifier(n_estimators=100)\n",
    "\n",
    "#Train the model using the training sets y_pred=clf.predict(X_test)\n",
    "clf.fit(X_train,y_train)\n",
    "\n",
    "y_pred=clf.predict(X_test)\n",
    "#Import scikit-learn metrics module for accuracy calculation\n",
    "from sklearn import metrics\n",
    "# Model Accuracy, how often is the classifier correct?\n",
    "print(\"Low mid level salience arc Accuracy:\",metrics.accuracy_score(y_test, y_pred))\n",
    "print(\"low mid level salience arc f1 score:\",f1_score(y_test, y_pred, average='weighted'))"
   ]
  },
  {
   "cell_type": "code",
   "execution_count": 8,
   "metadata": {},
   "outputs": [
    {
     "name": "stdout",
     "output_type": "stream",
     "text": [
      "Low mid level salience art Accuracy: 0.36942675159235666\n",
      "low mid level salience art f1 score: 0.37131655602170915\n"
     ]
    }
   ],
   "source": [
    "df_lowmid_art = pd.read_csv(r\"C:\\Users\\Aziz\\Desktop\\Discovering How Low- and Mid-level Image Features Relate with Instagram Likes -Source Codes\\CSV\\LowAndMidMergedFeatured_ART_salience.csv\")\n",
    "like_rate = pd.DataFrame()\n",
    "like_rate['like_rate_segmentation'] = df_lowmid_art['like_rate_segmentation']\n",
    "df_lowmid_art.pop('like_rate_segmentation')\n",
    "df_lowmid_art.pop('Unnamed: 0')\n",
    "pca = PCA(n_components=50) # 2 dimensional PCA\n",
    "pca.fit(df_lowmid_art)\n",
    "df_pca = pca.transform(df_lowmid_art) \n",
    "df = pd.DataFrame(data=df_pca,columns=column)\n",
    "df['like_rate_segmentation'] = like_rate['like_rate_segmentation']\n",
    "X = df.iloc[:, :-1]\n",
    "y = df.loc[:, 'like_rate_segmentation']\n",
    "X_train, X_test, y_train, y_test = train_test_split(X, y, train_size=0.8, random_state = 0)\n",
    "#Import Random Forest Model\n",
    "from sklearn.ensemble import RandomForestClassifier\n",
    "\n",
    "#Create a Gaussian Classifier\n",
    "clf=RandomForestClassifier(n_estimators=100)\n",
    "\n",
    "#Train the model using the training sets y_pred=clf.predict(X_test)\n",
    "clf.fit(X_train,y_train)\n",
    "\n",
    "y_pred=clf.predict(X_test)\n",
    "#Import scikit-learn metrics module for accuracy calculation\n",
    "from sklearn import metrics\n",
    "# Model Accuracy, how often is the classifier correct?\n",
    "print(\"Low mid level salience art Accuracy:\",metrics.accuracy_score(y_test, y_pred))\n",
    "print(\"low mid level salience art f1 score:\",f1_score(y_test, y_pred, average='weighted'))"
   ]
  },
  {
   "cell_type": "code",
   "execution_count": 9,
   "metadata": {},
   "outputs": [
    {
     "name": "stdout",
     "output_type": "stream",
     "text": [
      "all features arc Accuracy: 0.4394904458598726\n",
      "all features arc f1 score: 0.4524109456029566\n"
     ]
    }
   ],
   "source": [
    "df_lowmid_arc = pd.read_csv(r\"C:\\Users\\Aziz\\Desktop\\Discovering How Low- and Mid-level Image Features Relate with Instagram Likes -Source Codes\\CSV\\ALLFeatures_ARC.csv\")\n",
    "df_lowmid_arc.drop('like_rate',inplace=True,axis=1)\n",
    "df_lowmid_arc.drop('Unnamed: 0',inplace=True,axis=1)\n",
    "df_lowmid_arc.drop('like_rate_segmentation',inplace=True,axis=1)\n",
    "like_rate = pd.DataFrame()\n",
    "like_rate['like_rate_segmentation'] = df_lowmid_arc['like_rate_segmentation.1']\n",
    "df_lowmid_arc.pop('like_rate_segmentation.1')\n",
    "df_lowmid_arc.dropna(inplace=True)\n",
    "pca = PCA(n_components=50) # 2 dimensional PCA\n",
    "pca.fit(df_lowmid_arc)\n",
    "df_pca = pca.transform(df_lowmid_arc) \n",
    "df = pd.DataFrame(data=df_pca,columns=column)\n",
    "df['like_rate_segmentation'] = like_rate['like_rate_segmentation']\n",
    "X = df.iloc[:, :-1]\n",
    "y = df.loc[:, 'like_rate_segmentation']\n",
    "X_train, X_test, y_train, y_test = train_test_split(X, y, train_size=0.8, random_state = 0)\n",
    "#Import Random Forest Model\n",
    "from sklearn.ensemble import RandomForestClassifier\n",
    "\n",
    "#Create a Gaussian Classifier\n",
    "clf=RandomForestClassifier(n_estimators=100)\n",
    "\n",
    "#Train the model using the training sets y_pred=clf.predict(X_test)\n",
    "clf.fit(X_train,y_train)\n",
    "\n",
    "y_pred=clf.predict(X_test)\n",
    "#Import scikit-learn metrics module for accuracy calculation\n",
    "from sklearn import metrics\n",
    "# Model Accuracy, how often is the classifier correct?\n",
    "print(\"all features arc Accuracy:\",metrics.accuracy_score(y_test, y_pred))\n",
    "print(\"all features arc f1 score:\",f1_score(y_test, y_pred, average='weighted'))"
   ]
  },
  {
   "cell_type": "code",
   "execution_count": 10,
   "metadata": {},
   "outputs": [
    {
     "name": "stdout",
     "output_type": "stream",
     "text": [
      "all features art Accuracy: 0.9554140127388535\n",
      "all features art f1 score: 0.9552815706203398\n"
     ]
    }
   ],
   "source": [
    "df_lowmid_art = pd.read_csv(r\"C:\\Users\\Aziz\\Desktop\\Discovering How Low- and Mid-level Image Features Relate with Instagram Likes -Source Codes\\CSV\\ALLFeatures_ART.csv\")\n",
    "df_lowmid_art.drop('like_rate',inplace=True,axis=1)\n",
    "df_lowmid_art.drop('Unnamed: 0',inplace=True,axis=1)\n",
    "df_lowmid_art.drop('like_rate_segmentation',inplace=True,axis=1)\n",
    "like_rate = pd.DataFrame()\n",
    "like_rate['like_rate_segmentation'] = df_lowmid_art['like_rate_segmentation.1']\n",
    "df_lowmid_art.pop('like_rate_segmentation.1')\n",
    "df_lowmid_art.dropna(inplace=True)\n",
    "pca = PCA(n_components=50) # 2 dimensional PCA\n",
    "pca.fit(df_lowmid_art)\n",
    "df_pca = pca.transform(df_lowmid_art) \n",
    "df = pd.DataFrame(data=df_pca,columns=column)\n",
    "df['like_rate_segmentation'] = like_rate['like_rate_segmentation']\n",
    "X = df.iloc[:, :-1]\n",
    "y = df.loc[:, 'like_rate_segmentation']\n",
    "X_train, X_test, y_train, y_test = train_test_split(X, y, train_size=0.8, random_state = 0)\n",
    "#Import Random Forest Model\n",
    "from sklearn.ensemble import RandomForestClassifier\n",
    "\n",
    "#Create a Gaussian Classifier\n",
    "clf=RandomForestClassifier(n_estimators=100)\n",
    "\n",
    "#Train the model using the training sets y_pred=clf.predict(X_test)\n",
    "clf.fit(X_train,y_train)\n",
    "\n",
    "y_pred=clf.predict(X_test)\n",
    "#Import scikit-learn metrics module for accuracy calculation\n",
    "from sklearn import metrics\n",
    "# Model Accuracy, how often is the classifier correct?\n",
    "print(\"all features art Accuracy:\",metrics.accuracy_score(y_test, y_pred))\n",
    "print(\"all features art f1 score:\",f1_score(y_test, y_pred, average='weighted'))"
   ]
  }
 ],
 "metadata": {
  "kernelspec": {
   "display_name": "Python 3",
   "language": "python",
   "name": "python3"
  },
  "language_info": {
   "codemirror_mode": {
    "name": "ipython",
    "version": 3
   },
   "file_extension": ".py",
   "mimetype": "text/x-python",
   "name": "python",
   "nbconvert_exporter": "python",
   "pygments_lexer": "ipython3",
   "version": "3.8.5"
  }
 },
 "nbformat": 4,
 "nbformat_minor": 4
}
