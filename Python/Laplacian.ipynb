{
 "cells": [
  {
   "cell_type": "code",
   "execution_count": 41,
   "metadata": {},
   "outputs": [],
   "source": [
    "import pandas as pd\n",
    "import cv2\n",
    "import matplotlib.pyplot as plt\n",
    "from PIL import Image\n",
    "import numpy as np\n",
    "import glob\n",
    "import os\n",
    "from sklearn.decomposition import PCA\n",
    "import csv"
   ]
  },
  {
   "cell_type": "code",
   "execution_count": 42,
   "metadata": {},
   "outputs": [
    {
     "ename": "IndexError",
     "evalue": "list index out of range",
     "output_type": "error",
     "traceback": [
      "\u001b[1;31m---------------------------------------------------------------------------\u001b[0m",
      "\u001b[1;31mIndexError\u001b[0m                                Traceback (most recent call last)",
      "\u001b[1;32m<ipython-input-42-8215d00e7938>\u001b[0m in \u001b[0;36m<module>\u001b[1;34m\u001b[0m\n\u001b[0;32m      5\u001b[0m \u001b[0mcsvf\u001b[0m \u001b[1;33m=\u001b[0m \u001b[0mopen\u001b[0m\u001b[1;33m(\u001b[0m\u001b[1;34m'C:/Users/Aziz/Database/laplacian_arc.csv'\u001b[0m\u001b[1;33m,\u001b[0m \u001b[1;34m'w'\u001b[0m\u001b[1;33m)\u001b[0m\u001b[1;33m\u001b[0m\u001b[1;33m\u001b[0m\u001b[0m\n\u001b[0;32m      6\u001b[0m \u001b[1;32mfor\u001b[0m \u001b[0mi\u001b[0m \u001b[1;32min\u001b[0m \u001b[0mrange\u001b[0m\u001b[1;33m(\u001b[0m\u001b[1;36m1595\u001b[0m\u001b[1;33m)\u001b[0m\u001b[1;33m:\u001b[0m\u001b[1;33m\u001b[0m\u001b[1;33m\u001b[0m\u001b[0m\n\u001b[1;32m----> 7\u001b[1;33m     \u001b[0mimage\u001b[0m \u001b[1;33m=\u001b[0m \u001b[0mcv2\u001b[0m\u001b[1;33m.\u001b[0m\u001b[0mimread\u001b[0m\u001b[1;33m(\u001b[0m\u001b[0mresult\u001b[0m\u001b[1;33m[\u001b[0m\u001b[0mi\u001b[0m\u001b[1;33m]\u001b[0m\u001b[1;33m)\u001b[0m\u001b[1;33m\u001b[0m\u001b[1;33m\u001b[0m\u001b[0m\n\u001b[0m\u001b[0;32m      8\u001b[0m     \u001b[0mimage\u001b[0m \u001b[1;33m=\u001b[0m \u001b[0mcv2\u001b[0m\u001b[1;33m.\u001b[0m\u001b[0mcvtColor\u001b[0m\u001b[1;33m(\u001b[0m\u001b[0mimage\u001b[0m\u001b[1;33m,\u001b[0m\u001b[0mcv2\u001b[0m\u001b[1;33m.\u001b[0m\u001b[0mCOLOR_BGR2RGB\u001b[0m\u001b[1;33m)\u001b[0m\u001b[1;33m\u001b[0m\u001b[1;33m\u001b[0m\u001b[0m\n\u001b[0;32m      9\u001b[0m     \u001b[0mim\u001b[0m \u001b[1;33m=\u001b[0m \u001b[0mnp\u001b[0m\u001b[1;33m.\u001b[0m\u001b[0masarray\u001b[0m\u001b[1;33m(\u001b[0m\u001b[0mimage\u001b[0m\u001b[1;33m)\u001b[0m\u001b[1;33m\u001b[0m\u001b[1;33m\u001b[0m\u001b[0m\n",
      "\u001b[1;31mIndexError\u001b[0m: list index out of range"
     ]
    }
   ],
   "source": [
    "import os\n",
    "import csv\n",
    "PATH = r\"C:\\Users\\Aziz\\Desktop\\Github\\Database\\ARC DATABASE\"\n",
    "result = [os.path.join(dp, f) for dp, dn, filenames in os.walk(PATH) for f in filenames if os.path.splitext(f)[1] == '.jpg']\n",
    "csvf = open('C:/Users/Aziz/Database/laplacian_arc.csv', 'w')\n",
    "for i in range(1595):\n",
    "    image = cv2.imread(result[i])\n",
    "    image = cv2.cvtColor(image,cv2.COLOR_BGR2RGB)\n",
    "    im = np.asarray(image)\n",
    "    red = im[:,:,0]\n",
    "    G_blur_r=cv2.GaussianBlur(red,(5,5),0)\n",
    "    LoG_img_r=cv2.Laplacian(G_blur_r,cv2.CV_64F,ksize=3)\n",
    "    LoG_img_r=np.abs(LoG_img_r)\n",
    "    green = im[:,:,1]\n",
    "    G_blur_g=cv2.GaussianBlur(green,(5,5),0)\n",
    "    LoG_img_g=cv2.Laplacian(G_blur_g,cv2.CV_64F,ksize=3)\n",
    "    LoG_img_g=np.abs(LoG_img_g)\n",
    "    blue = im[:,:,2]\n",
    "    G_blur_b=cv2.GaussianBlur(blue,(5,5),0)\n",
    "    LoG_img_b=cv2.Laplacian(G_blur_b,cv2.CV_64F,ksize=3)\n",
    "    LoG_img_b=np.abs(LoG_img_b)    \n",
    "    LoG_mean=(LoG_img_b+LoG_img_g+LoG_img_r)/3    \n",
    "    LoG_mean = cv2.resize(LoG_mean,(100,100))   \n",
    "    LoG_mean=np.exp(LoG_mean)/sum(np.exp(LoG_mean))    \n",
    "    LoG_mean = np.reshape(LoG_mean,(1,10000))\n",
    "    writer = csv.writer(csvf)\n",
    "    writer.writerows(LoG_mean)\n",
    "    "
   ]
  },
  {
   "cell_type": "code",
   "execution_count": 50,
   "metadata": {
    "scrolled": true
   },
   "outputs": [],
   "source": [
    "csvf = pd.read_csv('C:/Users/Aziz/Database/laplacian_arc.csv')\n",
    "column=['laplacian']\n",
    "pca = PCA(n_components=1) # 2 dimensional PCA\n",
    "pca.fit(csvf)\n",
    "df_pca = pca.transform(csvf)\n",
    "csvf = open('C:/Users/Aziz/Database/laplacian_arc_pca.csv', 'w')\n",
    "writer = csv.writer(csvf)\n",
    "writer.writerows(df_pca)\n",
    "csvf = pd.read_csv('C:/Users/Aziz/Database/laplacian_arc_pca.csv',names=column,header=0)\n",
    "csvf.to_csv(\"reduced_laplacian_arc.csv\") "
   ]
  },
  {
   "cell_type": "code",
   "execution_count": 44,
   "metadata": {},
   "outputs": [
    {
     "ename": "IndexError",
     "evalue": "list index out of range",
     "output_type": "error",
     "traceback": [
      "\u001b[1;31m---------------------------------------------------------------------------\u001b[0m",
      "\u001b[1;31mIndexError\u001b[0m                                Traceback (most recent call last)",
      "\u001b[1;32m<ipython-input-44-27a1ac6e512d>\u001b[0m in \u001b[0;36m<module>\u001b[1;34m\u001b[0m\n\u001b[0;32m      3\u001b[0m \u001b[0mcsvf2\u001b[0m \u001b[1;33m=\u001b[0m \u001b[0mopen\u001b[0m\u001b[1;33m(\u001b[0m\u001b[1;34m'C:/Users/Aziz/Database/laplacian_art.csv'\u001b[0m\u001b[1;33m,\u001b[0m \u001b[1;34m'w'\u001b[0m\u001b[1;33m)\u001b[0m\u001b[1;33m\u001b[0m\u001b[1;33m\u001b[0m\u001b[0m\n\u001b[0;32m      4\u001b[0m \u001b[1;32mfor\u001b[0m \u001b[0mi\u001b[0m \u001b[1;32min\u001b[0m \u001b[0mrange\u001b[0m\u001b[1;33m(\u001b[0m\u001b[1;36m1595\u001b[0m\u001b[1;33m)\u001b[0m\u001b[1;33m:\u001b[0m\u001b[1;33m\u001b[0m\u001b[1;33m\u001b[0m\u001b[0m\n\u001b[1;32m----> 5\u001b[1;33m     \u001b[0mimage\u001b[0m \u001b[1;33m=\u001b[0m \u001b[0mcv2\u001b[0m\u001b[1;33m.\u001b[0m\u001b[0mimread\u001b[0m\u001b[1;33m(\u001b[0m\u001b[0mresult\u001b[0m\u001b[1;33m[\u001b[0m\u001b[0mi\u001b[0m\u001b[1;33m]\u001b[0m\u001b[1;33m)\u001b[0m\u001b[1;33m\u001b[0m\u001b[1;33m\u001b[0m\u001b[0m\n\u001b[0m\u001b[0;32m      6\u001b[0m     \u001b[0mimage\u001b[0m \u001b[1;33m=\u001b[0m \u001b[0mcv2\u001b[0m\u001b[1;33m.\u001b[0m\u001b[0mcvtColor\u001b[0m\u001b[1;33m(\u001b[0m\u001b[0mimage\u001b[0m\u001b[1;33m,\u001b[0m\u001b[0mcv2\u001b[0m\u001b[1;33m.\u001b[0m\u001b[0mCOLOR_BGR2RGB\u001b[0m\u001b[1;33m)\u001b[0m\u001b[1;33m\u001b[0m\u001b[1;33m\u001b[0m\u001b[0m\n\u001b[0;32m      7\u001b[0m     \u001b[0mim\u001b[0m \u001b[1;33m=\u001b[0m \u001b[0mnp\u001b[0m\u001b[1;33m.\u001b[0m\u001b[0masarray\u001b[0m\u001b[1;33m(\u001b[0m\u001b[0mimage\u001b[0m\u001b[1;33m)\u001b[0m\u001b[1;33m\u001b[0m\u001b[1;33m\u001b[0m\u001b[0m\n",
      "\u001b[1;31mIndexError\u001b[0m: list index out of range"
     ]
    }
   ],
   "source": [
    "PATH = r\"C:\\Users\\Aziz\\Desktop\\Github\\Database\\ART DATABASE\"\n",
    "result = [os.path.join(dp, f) for dp, dn, filenames in os.walk(PATH) for f in filenames if os.path.splitext(f)[1] == '.jpg']\n",
    "csvf2 = open('C:/Users/Aziz/Database/laplacian_art.csv', 'w')\n",
    "for i in range(1595):\n",
    "    image = cv2.imread(result[i])\n",
    "    image = cv2.cvtColor(image,cv2.COLOR_BGR2RGB)\n",
    "    im = np.asarray(image)\n",
    "    red = im[:,:,0]\n",
    "    G_blur_r=cv2.GaussianBlur(red,(5,5),0)\n",
    "    LoG_img_r=cv2.Laplacian(G_blur_r,cv2.CV_64F,ksize=3)\n",
    "    LoG_img_r=np.abs(LoG_img_r)\n",
    "    green = im[:,:,1]\n",
    "    G_blur_g=cv2.GaussianBlur(green,(5,5),0)\n",
    "    LoG_img_g=cv2.Laplacian(G_blur_g,cv2.CV_64F,ksize=3)\n",
    "    LoG_img_g=np.abs(LoG_img_g)\n",
    "    blue = im[:,:,2]\n",
    "    G_blur_b=cv2.GaussianBlur(blue,(5,5),0)\n",
    "    LoG_img_b=cv2.Laplacian(G_blur_b,cv2.CV_64F,ksize=3)\n",
    "    LoG_img_b=np.abs(LoG_img_b)    \n",
    "    LoG_mean=(LoG_img_b+LoG_img_g+LoG_img_r)/3    \n",
    "    LoG_mean = cv2.resize(LoG_mean,(100,100))   \n",
    "    LoG_mean=np.exp(LoG_mean)/sum(np.exp(LoG_mean))    \n",
    "    LoG_mean = np.reshape(LoG_mean,(1,10000))\n",
    "    writer = csv.writer(csvf2)\n",
    "    writer.writerows(LoG_mean)"
   ]
  },
  {
   "cell_type": "code",
   "execution_count": 52,
   "metadata": {},
   "outputs": [
    {
     "data": {
      "text/plain": [
       "(786, 10000)"
      ]
     },
     "execution_count": 52,
     "metadata": {},
     "output_type": "execute_result"
    }
   ],
   "source": [
    "column=['laplacian']\n",
    "csvf = pd.read_csv('C:/Users/Aziz/Database/laplacian_art.csv')\n",
    "csvf.shape\n",
    "csvf.head()\n",
    "pca = PCA(n_components=1) # 2 dimensional PCA\n",
    "pca.fit(csvf)\n",
    "df_pca = pca.transform(csvf)\n",
    "csvf = open('C:/Users/Aziz/Database/laplacian_art_pca.csv', 'w')\n",
    "writer = csv.writer(csvf)\n",
    "writer.writerows(df_pca)\n",
    "csvf = pd.read_csv('C:/Users/Aziz/Database/laplacian_art_pca.csv',names=['laplacian'],header=0)\n",
    "csvf.to_csv(\"reduced_laplacian_art.csv\") "
   ]
  },
  {
   "cell_type": "code",
   "execution_count": null,
   "metadata": {},
   "outputs": [],
   "source": []
  },
  {
   "cell_type": "code",
   "execution_count": null,
   "metadata": {},
   "outputs": [],
   "source": []
  }
 ],
 "metadata": {
  "kernelspec": {
   "display_name": "Python 3",
   "language": "python",
   "name": "python3"
  },
  "language_info": {
   "codemirror_mode": {
    "name": "ipython",
    "version": 3
   },
   "file_extension": ".py",
   "mimetype": "text/x-python",
   "name": "python",
   "nbconvert_exporter": "python",
   "pygments_lexer": "ipython3",
   "version": "3.8.5"
  }
 },
 "nbformat": 4,
 "nbformat_minor": 4
}
