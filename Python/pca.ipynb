{
 "cells": [
  {
   "cell_type": "code",
   "execution_count": null,
   "metadata": {},
   "outputs": [],
   "source": [
    "# for laplacian art\n",
    "laplacian_path_art = base_path+\"\\laplacian_art.csv\"\n",
    "df_laplacian_art = pd.read_csv(laplacian_path_art)\n",
    "# df_laplacian_art = df_laplacian_art.iloc[::-1]\n",
    "# df_laplacian_art = df_laplacian_art[df_laplacian_art.columns.drop(list(df_laplacian_art.filter(regex='Unnamed')))]\n",
    "\n",
    "\n",
    "# get like rate for \n",
    "segmentation_path_art = base_path+\"\\like_rate_segmentation_by_date_art.csv\"\n",
    "df_rate = pd.read_csv(segmentation_path_art)\n",
    "like_rate_segmentation = df_rate['like_rate_segmentation']\n",
    "\n",
    "\n",
    "\n",
    "df_laplacian_art['like_rate_segmentation'] = df_rate['like_rate_segmentation']\n",
    "# df_laplacian_art\n",
    "# np.any(np.isnan(df_laplacian_art))\n",
    "\n",
    "#PCA time\n",
    "from sklearn.decomposition import PCA\n",
    " \n",
    "pca = PCA(n_components = 50)\n",
    "y = df_laplacian_art.pop('like_rate_segmentation')\n",
    "from sklearn.preprocessing import StandardScaler\n",
    "scalar = StandardScaler()\n",
    "df_scaled = pd.DataFrame(scalar.fit_transform(df_laplacian_art), columns=df_laplacian_art.columns)\n",
    "df_pca = pd.DataFrame(pca.fit_transform(df_scaled))\n",
    "\n",
    "\n",
    "# Run TSNE\n",
    "\n",
    "tsne_em = TSNE(n_components=2, perplexity=30.0, n_iter=1000, verbose=1).fit_transform(df_pca)\n",
    "df = pd.DataFrame()\n",
    "\n",
    "like_rate_segmentation = df_rate['like_rate_segmentation']\n",
    "df[\"y\"] = like_rate_segmentation\n",
    "uniqueValues = like_rate_segmentation.nunique()\n",
    "\n",
    "df[\"edge_distribution_laplacian\"] = tsne_em[:,0]\n",
    "df[\"like_rate\"] = tsne_em[:,1]\n",
    "\n",
    "sns.scatterplot(x=\"edge_distribution_laplacian\", y=\"like_rate\", hue=df.y.tolist(),\n",
    "                palette=sns.color_palette(\"hls\", uniqueValues),\n",
    "                data=df).set(title=\"Edge distribution laplacian art T-SNE projection\") "
   ]
  }
 ],
 "metadata": {
  "kernelspec": {
   "display_name": "Python 3",
   "language": "python",
   "name": "python3"
  },
  "language_info": {
   "codemirror_mode": {
    "name": "ipython",
    "version": 3
   },
   "file_extension": ".py",
   "mimetype": "text/x-python",
   "name": "python",
   "nbconvert_exporter": "python",
   "pygments_lexer": "ipython3",
   "version": "3.8.5"
  }
 },
 "nbformat": 4,
 "nbformat_minor": 4
}
